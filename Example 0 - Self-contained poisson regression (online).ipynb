{
 "cells": [
  {
   "cell_type": "markdown",
   "metadata": {},
   "source": [
    "# Minimal PCV example: single Poisson model (fully online inference)"
   ]
  },
  {
   "cell_type": "markdown",
   "metadata": {},
   "source": [
    "In this example we estimate the predictive density for a simple Poisson regression using leave-one-out cross-validation. There is no model selection, we are simply measuring predictive ability.\n",
    "\n",
    "Of course, this problem does not require parallel sampling. However, it is a very simple model where it makes sense to use CV, so we use it to demonstrate the method.\n",
    "\n",
    "This standalone notebook depends only on JAX, Blackjax, and matplotlib."
   ]
  },
  {
   "cell_type": "markdown",
   "metadata": {},
   "source": [
    "## PCV implementation"
   ]
  },
  {
   "cell_type": "code",
   "execution_count": 17,
   "metadata": {},
   "outputs": [],
   "source": [
    "import jax\n",
    "import jax.numpy as jnp\n",
    "from jax.scipy.special import logsumexp\n",
    "import blackjax as bj\n",
    "import matplotlib.pyplot as plt"
   ]
  },
  {
   "cell_type": "markdown",
   "metadata": {},
   "source": [
    "Parallel sampler for PCV."
   ]
  },
  {
   "cell_type": "code",
   "execution_count": 18,
   "metadata": {},
   "outputs": [],
   "source": [
    "def pcv_LogS_sampler_online(key, log_dens_fn, log_pred_fn, init_pos, C_k, L, H, G, D, kparam):\n",
    "    \"\"\"Sampler for parallel cross-validation using LogS for a single model.\n",
    "    \n",
    "    Generates the statistics required to estimate ESS, MCSE, Rhat_max, and\n",
    "    the Rhat_max benchmark. Space complexity is O(K*L*D), independent of\n",
    "    G and H and therefore constant with respect to MCMC chain length.\n",
    "\n",
    "    Args:\n",
    "        key: JAX PRNG key array\n",
    "        log_dens_fn: log density function with signature (params, fold_id)\n",
    "        log_pred_fn: log predictive density function with signature (params, fold_id)\n",
    "        init_pos: K*L*p pytree of initial positions for each fold and chain\n",
    "        C_k: K-array of centering constants per fold\n",
    "        L: number of chains\n",
    "        H: MCMC draws per batch\n",
    "        G: number of batches per block\n",
    "        D: number of shuffle blocks\n",
    "        kparam: dictionary of hyperparameters for Blackjax HMC kernel\n",
    "    \n",
    "    Returns:\n",
    "        Tuple: (last_state, Ux, Ux2, Vx, Vx2, Yx, Yx2, E)\n",
    "    \"\"\"\n",
    "    K = C_k.shape[0]\n",
    "\n",
    "    def run_chain(init_pos, chain_key, fold_id, C):  # sample from a single chain\n",
    "        fold_log_dens_fn = lambda params: log_dens_fn(params, fold_id)\n",
    "        hmc_kernel = bj.hmc(fold_log_dens_fn, **kparam)\n",
    "\n",
    "        def mcmc_step(carry_state, _): # a single mcmc step\n",
    "            key, prev_state, Zx, Ux2, E, Yx, Yx2 = carry_state\n",
    "            step_key, carry_key = jax.random.split(key)\n",
    "            state, info = hmc_kernel.step(step_key, prev_state)  # one mcmc step\n",
    "            lpred = log_pred_fn(state.position, fold_id)  # cond. log predictive\n",
    "            E = E + info.is_divergent\n",
    "            Zx = jnp.logaddexp(Zx, lpred)  # increment accumulators\n",
    "            Ux2 = jnp.logaddexp(Ux2, 2*lpred)\n",
    "            Yx += lpred - C\n",
    "            Yx2 += (lpred - C)**2\n",
    "            return (carry_key, state, Zx, Ux2, E, Yx, Yx2), None\n",
    "\n",
    "        def batch_step(batch_carry, _): # one batch of H mcmc steps\n",
    "            key, init_state, Ux, Ux2, Vx, Vx2, E, Yx, Yx2 = batch_carry\n",
    "            init_carry = (key, init_state, -jnp.inf, Ux2, E, Yx, Yx2)\n",
    "            (carry_key, state, Zx, Ux2, E, Yx, Yx2), _ = \\\n",
    "                jax.lax.scan(mcmc_step, init_carry, None, length=H)\n",
    "            Zx_bar = Zx - jnp.log(H)  # this batch mean\n",
    "            Vx = jnp.logaddexp(Vx, Zx_bar)  # increment accumulators\n",
    "            Vx2 = jnp.logaddexp(Vx2, 2*Zx_bar)\n",
    "            Ux = jnp.logaddexp(Ux, Zx)\n",
    "            return (carry_key, state, Ux, Ux2, Vx, Vx2, E, Yx, Yx2), None\n",
    "\n",
    "        def block_step(block_carry, _): # one block of G batches\n",
    "            init_carry = block_carry + (0, 0,)  # zeros are (Yx, Yx2)\n",
    "            (key, prev_state, Ux, Ux2, Vx, Vx2, E, Yx, Yx2), _ = \\\n",
    "                jax.lax.scan(batch_step, init_carry, None, length=G)\n",
    "            return (key, prev_state, Ux, Ux2, Vx, Vx2, E), (Yx, Yx2)\n",
    "\n",
    "        init_state = hmc_kernel.init(init_pos)\n",
    "        init_carry = (chain_key, init_state, -jnp.inf, -jnp.inf, -jnp.inf, -jnp.inf,  0)\n",
    "        #                                        (Ux),    (Ux2),     (Vx),    (Vx2), (E)\n",
    "        return jax.lax.scan(block_step, init_carry, None, length=D)\n",
    "\n",
    "    def run_fold(fold_key, ch_init_pos, fold_id, C): # run L chains for one fold\n",
    "        sampling_fn = jax.vmap(lambda pos, key: run_chain(pos, key, fold_id, C))\n",
    "        return sampling_fn(ch_init_pos, jax.random.split(fold_key, L))\n",
    "\n",
    "    (_, last_state, Ux, Ux2, Vx, Vx2, E), (Yx, Yx2) = \\\n",
    "        jax.vmap(run_fold)(jax.random.split(key, K), init_pos, jnp.arange(K), C_k)\n",
    "    return (last_state, Ux, Ux2, Vx, Vx2, Yx, Yx2, E)"
   ]
  },
  {
   "cell_type": "markdown",
   "metadata": {},
   "source": [
    "Helper function for computing the (log of the) variance from welford statistics. We use logs to numerically stabilize calculations."
   ]
  },
  {
   "cell_type": "code",
   "execution_count": 19,
   "metadata": {},
   "outputs": [],
   "source": [
    "def log_var(n, log_sum_X, log_sum_X2):  # log variance from welford states\n",
    "    return (-jnp.log(n - 1) + log_sum_X2 \n",
    "        + jnp.log1p(-jnp.exp(2 * log_sum_X - jnp.log(n) - log_sum_X2)))"
   ]
  },
  {
   "cell_type": "markdown",
   "metadata": {},
   "source": [
    "Function to compute $\\widehat{R}$ from welford statistics."
   ]
  },
  {
   "cell_type": "code",
   "execution_count": 20,
   "metadata": {},
   "outputs": [],
   "source": [
    "def online_rhats(Yx_kl, Yx2_kl, N):\n",
    "    \"\"\"Compute rhat statistics per chain using welford statistics\n",
    "    \n",
    "    Args:\n",
    "        Yx_kl: K*L array of centered sum of log predictive densities per chain\n",
    "        Yx2_kl: K*L array of sum of centered squared log predictive densities per chain\n",
    "        N: number of samples per chain\n",
    "    \n",
    "    Returns:\n",
    "        K-vector of rhat statistics\n",
    "    \"\"\"\n",
    "    assert Yx_kl.shape == Yx2_kl.shape\n",
    "    W = ((Yx2_kl - N*(Yx_kl/N)**2)/(N-1)).mean(axis=1)\n",
    "    B = N*(Yx_kl/N).var(axis=1, ddof=1)\n",
    "    V = W*(N-1)/N + B/N\n",
    "    return jnp.sqrt(V/W)"
   ]
  },
  {
   "cell_type": "markdown",
   "metadata": {},
   "source": [
    "Function to compute shuffled $\\widehat{R}_{max}$ draws, i.e. the benchmark."
   ]
  },
  {
   "cell_type": "code",
   "execution_count": 21,
   "metadata": {},
   "outputs": [],
   "source": [
    "def shuffled_rhat_maxs(key, Yx, Yx2, N, num_shuffles):\n",
    "    \"\"\"Simulate Rhat_max for synthetic mixed chains by shuffling blocks\n",
    "    \n",
    "    Args:\n",
    "        key: jax.random.PRNGKey\n",
    "        Ux: K*L*D array of log sum of predictive densities per fold, chain, and block\n",
    "        Ux2: K*L*D array of log sum of square predictive densities per fold, chain, and block\n",
    "        N: number of samples per chain\n",
    "        num_shuffles: number of shuffles to draw\n",
    "    \"\"\"\n",
    "    K, L, D = Yx.shape\n",
    "    assert Yx.shape == Yx2.shape\n",
    "    def shuffle_welford_stats(block_lS, shuff_key):\n",
    "        def shuffle_chains(shuff_key, k, s):\n",
    "            return jax.random.choice(shuff_key, block_lS[k, :, s], shape=(L,))\n",
    "        def shuffle_fold(shuff_key, k):\n",
    "            keys = jax.random.split(shuff_key, D)\n",
    "            shuffled = jax.vmap(shuffle_chains, in_axes=(0,None,0))(keys, k, jnp.arange(D))\n",
    "            return shuffled.sum(axis=0)  # stats for synthetic chains\n",
    "        return jax.vmap(shuffle_fold)(jax.random.split(shuff_key, K), jnp.arange(K))\n",
    "    def draw(draw_key):\n",
    "        # note common keys so shuffling generates same order for both stats\n",
    "        sUx = shuffle_welford_stats(Yx, draw_key)\n",
    "        sUx2 = shuffle_welford_stats(Yx2, draw_key)\n",
    "        return online_rhats(sUx, sUx2, N).max()\n",
    "    return jax.vmap(draw)(jax.random.split(key, num_shuffles))"
   ]
  },
  {
   "cell_type": "markdown",
   "metadata": {},
   "source": [
    "All-in-one function to do initial adaptation, full-data sampling, parallel warmup, parallel sampling, then compute statistics."
   ]
  },
  {
   "cell_type": "code",
   "execution_count": 22,
   "metadata": {},
   "outputs": [],
   "source": [
    "def basic_pcv_LogS(key, log_dens_fn, log_pred_fn, init_pos, K, L, H, G, D, N_delta, N_fd):\n",
    "    \"\"\"\n",
    "    Basic parallel cross-validation using LogS and Hamiltonian Monte Carlo (HMC)\n",
    "\n",
    "    This variant performs full-data sampling, parallel warmup, parallel sampling,\n",
    "    and computes summaries, all in one function.\n",
    "\n",
    "    Args:\n",
    "        key: JAX PRNG key array\n",
    "        log_dens_fn: log density function with signature (params, fold_id)\n",
    "        log_pred_fn: log predictive density function with signature (params, fold_id)\n",
    "        init_pos: initial position for a single chain\n",
    "        K: number of folds\n",
    "        L: number of chains\n",
    "        H: MCMC draws per batch\n",
    "        G: number of batches per block\n",
    "        D: number of shuffle blocks\n",
    "        N_delta: number of samples for estimating CV se\n",
    "        N_fd: Number of samples for full-data posterior\n",
    "    \"\"\"\n",
    "    N = G*D*H  # number of samples per chain\n",
    "\n",
    "    warmup_k1, warmup_k2, warmup_k3, warmup_k4, sampling_key, shuff_key = jax.random.split(key, 6)\n",
    "\n",
    "    # Stan-style window adaptation HMC warmup\n",
    "    full_data_dens = lambda x: log_dens_fn(x, -1)\n",
    "    res, _ = (bj\n",
    "                 .window_adaptation(bj.hmc, full_data_dens, num_integration_steps=5)\n",
    "                 .run(warmup_k1, init_pos))\n",
    "    kparam = res.parameters\n",
    "\n",
    "    # Draw initial samples from full-data posterior - for simplicity use a single chain\n",
    "    fd_kernel = bj.hmc(full_data_dens, **kparam)\n",
    "    def inference_loop(params, key):\n",
    "        params, _ = fd_kernel.step(key, params)\n",
    "        return params, params.position\n",
    "    sampling_keys = jax.random.split(warmup_k2, N_fd)\n",
    "    _, init_pos = jax.lax.scan(inference_loop, res.state, sampling_keys)\n",
    "\n",
    "    initial_idxs = jax.random.choice(warmup_k3, jnp.arange(init_pos.shape[0]), shape=(K,L,))\n",
    "    ch_init_pos = init_pos[initial_idxs, :]\n",
    "\n",
    "    sample = jax.jit(lambda key, pos, C_k: pcv_LogS_sampler_online(key, log_dens_fn, log_pred_fn, pos, C_k, L, H, G, D, kparam))\n",
    "    warm_states, _, _, _, _, Yx_wu, _, _ = sample(warmup_k4, ch_init_pos, jnp.zeros(K))  # parallel warmup\n",
    "    C_k = Yx_wu.sum(axis=(1,2))/(L*N)  # sum over chains and blocks\n",
    "    _, Ux, Ux2, Vx, Vx2, Yx, Yx2, E = sample(sampling_key, warm_states.position, C_k)  # parallel sampling\n",
    "\n",
    "    # sum over blocks to get chain-level statistics\n",
    "    Yx_k = Yx.sum(axis=2)\n",
    "    Yx2_k = Yx2.sum(axis=2)\n",
    "\n",
    "    # effective sample size (ess)\n",
    "    log_ssq_k = log_var(L*N, logsumexp(Ux, axis=1), logsumexp(Ux2, axis=1))\n",
    "    log_sigsq_k = jnp.log(H) + log_var(L*N//H, logsumexp(Vx, axis=1), logsumexp(Vx2, axis=1))\n",
    "    ess = N * L * jnp.exp(logsumexp(log_ssq_k) - logsumexp(log_sigsq_k))\n",
    "\n",
    "    # Expected log predictive density (elpd)\n",
    "    log_phat_k = logsumexp(Ux, axis=1) - jnp.log(L*N)\n",
    "    elpd = log_phat_k.sum()\n",
    "\n",
    "    # Monte Carlo standard error (mcse)\n",
    "    log_var_phat_k = log_ssq_k - jnp.log(L*N)  # log variance of mean density\n",
    "    log_var_etahat_k = log_var_phat_k - 2*log_phat_k  # log var of log mean density (delta method)\n",
    "    elpd_mcse = jnp.exp(0.5*logsumexp(log_var_etahat_k))  # sum of independent variances\n",
    "\n",
    "    # CV standard error (cvse) by simulation with (truncated) normal mean density assumption\n",
    "    log_scale_coef_k = jnp.expand_dims(-0.5 * log_var_phat_k, axis=1)\n",
    "    sim_mean_k = jnp.exp(jnp.expand_dims(log_phat_k, axis=1) + log_scale_coef_k)\n",
    "    scaled_draw_k_i = sim_mean_k + jax.random.truncated_normal(key=key, lower=-sim_mean_k, upper=jnp.inf, shape=(K, N_delta))\n",
    "    draw_cvvar_i = jnp.var(jnp.log(scaled_draw_k_i) - log_scale_coef_k, axis=0)  # cv var draws\n",
    "    cvse = jnp.sqrt(jnp.mean(draw_cvvar_i))\n",
    "\n",
    "    # Rhat_max mixing statistic and benchmark\n",
    "    rhat_max = online_rhats(Yx_k, Yx2_k, N).max()\n",
    "    shuff_rhat_maxs = shuffled_rhat_maxs(shuff_key, Yx, Yx2, N, 500)\n",
    "    q_rhat_max = jnp.mean(rhat_max >= shuff_rhat_maxs)\n",
    "\n",
    "    print(f\"{K} folds generated {L*N} draws each ({L} chains * {N} iter, {L*N//H} batches of {H})\")\n",
    "    print(f\"elpdhat: {elpd:.4f} (mcse {elpd_mcse:.4f}, CV se {cvse:.4f})\")\n",
    "    print(f\"overall ess: {ess:.0f}\")\n",
    "    print(f\"rhat_max: {rhat_max:.4f} (q = {q_rhat_max*100:.0f}%)\")\n",
    "\n",
    "    fig, ax = plt.subplots(figsize=(6,2.5))\n",
    "    ax.hist(shuff_rhat_maxs[jnp.isfinite(shuff_rhat_maxs)], bins=20)\n",
    "    ax.axvline(rhat_max, color='red')\n",
    "    ax.ticklabel_format(useOffset=False)\n",
    "    ax.set_title(r'$\\widehat{R}_{max}$ and emulated mixed benchmark')\n",
    "    fig.tight_layout()\n"
   ]
  },
  {
   "cell_type": "markdown",
   "metadata": {},
   "source": [
    "## Model definition and inference\n",
    "\n",
    "The model is\n",
    "$$ y_i | x_i, \\beta \\sim \\mathrm{pois}\\left(\\exp\\left(x_i^\\top\\beta\\right)\\right), \\qquad i=1,\\dots,N, $$\n",
    "and we impose a spherical normal prior, $ \\beta_j \\sim \\mathcal{N}\\left(0,1\\right),\\ j=1,\\dots,p $."
   ]
  },
  {
   "cell_type": "code",
   "execution_count": 23,
   "metadata": {},
   "outputs": [],
   "source": [
    "jax.config.update(\"jax_enable_x64\", True)  # use double precision\n",
    "\n",
    "# generate data for poisson regression model\n",
    "data_key = jax.random.PRNGKey(seed=42) # data seed\n",
    "p = 5  # regressors including the constant\n",
    "n_obs = 50  # number of observations\n",
    "beta_true = jnp.array([1., 1., 1., 0., 0.])\n",
    "data_k1, data_k2 = jax.random.split(data_key)\n",
    "X = jnp.hstack([\n",
    "    jnp.ones((n_obs,1)),\n",
    "    jax.random.normal(key=data_k1, shape=(n_obs, p-1))])\n",
    "y = jax.random.poisson(key=data_k2, lam=jnp.exp(X @ beta_true))\n",
    "\n",
    "# log density function, by fold\n",
    "def log_dens_fn(params, fold_id):\n",
    "    mask = jnp.arange(n_obs) != fold_id  # LOO-CV, use -1 for full data\n",
    "    return (jax.scipy.stats.poisson.logpmf(y, jnp.exp(X @ params)) * mask).sum()\n",
    "\n",
    "# conditional predictive function, by fold\n",
    "def log_pred_fn(params, fold_id):\n",
    "    return jax.scipy.stats.poisson.logpmf(y[fold_id], jnp.exp(X[fold_id] @ params))\n"
   ]
  },
  {
   "cell_type": "markdown",
   "metadata": {},
   "source": [
    "Now perform parallel cross-validation to estimate predictive ability under LogS"
   ]
  },
  {
   "cell_type": "code",
   "execution_count": 24,
   "metadata": {},
   "outputs": [
    {
     "name": "stdout",
     "output_type": "stream",
     "text": [
      "50 folds generated 4000 draws each (4 chains * 1000 iter, 80 batches of 50)\n",
      "elpdhat: -87.8131 (mcse 0.0316, CV se 0.9501)\n",
      "overall ess: 2796\n",
      "rhat_max: 1.0020 (q = 77%)\n"
     ]
    },
    {
     "data": {
      "image/png": "[encoded data removed]",
      "text/plain": [
       "<Figure size 600x250 with 1 Axes>"
      ]
     },
     "metadata": {},
     "output_type": "display_data"
    }
   ],
   "source": [
    "basic_pcv_LogS(\n",
    "    key= jax.random.PRNGKey(seed=123),  # inference seed\n",
    "    log_dens_fn=log_dens_fn,  # log density function, by fold\n",
    "    log_pred_fn=log_pred_fn,  # conditional predictive function, by fold\n",
    "    init_pos=jnp.zeros(p),  # initial mcmc warmup position\n",
    "    K=n_obs,  # number of folds (LOO-CV)\n",
    "    L=4,  # number of chains\n",
    "    H=50,  # batch size\n",
    "    G=5,  # batches per shuffle block\n",
    "    D=4,  # shuffle blocks\n",
    "    N_delta=500,  # CV se estimation draws\n",
    "    N_fd=500  # full-data mcmc draws\n",
    ")"
   ]
  }
 ],
 "metadata": {
  "kernelspec": {
   "display_name": "python3",
   "language": "python",
   "name": "python3"
  },
  "language_info": {
   "codemirror_mode": {
    "name": "ipython",
    "version": 3
   },
   "file_extension": ".py",
   "mimetype": "text/x-python",
   "name": "python",
   "nbconvert_exporter": "python",
   "pygments_lexer": "ipython3",
   "version": "3.10.12"
  }
 },
 "nbformat": 4,
 "nbformat_minor": 2
}
