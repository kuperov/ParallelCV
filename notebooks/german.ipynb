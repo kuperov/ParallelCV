{
 "cells": [
  {
   "attachments": {},
   "cell_type": "markdown",
   "metadata": {},
   "source": [
    "# German credit\n",
    "\n",
    "This model is borrowed directly from the [Blackjax documentation](https://blackjax-devs.github.io/sampling-book/models/sparse_regression.html), here, based on the [German credit dataset](https://archive.ics.uci.edu/ml/machine-learning-databases/statlog/german).\n",
    "\n",
    "\\begin{align*}\n",
    "\\tau &\\sim \\operatorname{C}^+(0, 1)\\\\\n",
    "\\boldsymbol{\\lambda} &\\sim \\operatorname{C}^+(0, 1)\\\\\n",
    "\\boldsymbol{\\beta} &\\sim \\operatorname{Normal}(0, \\tau \\lambda)\\\\\n",
    "\\\\\n",
    "p &= \\operatorname{sigmoid}\\left(- X.\\boldsymbol{\\beta}\\right)\\\\\n",
    "y &\\sim \\operatorname{Bernoulli}(p)\\\\\n",
    "\\end{align*}\n",
    "\n",
    "We will not be using Aesara, but instead JAX and TFP directly."
   ]
  },
  {
   "cell_type": "code",
   "execution_count": 1,
   "metadata": {},
   "outputs": [],
   "source": []
  },
  {
   "cell_type": "code",
   "execution_count": null,
   "metadata": {},
   "outputs": [],
   "source": []
  }
 ],
 "metadata": {
  "kernelspec": {
   "display_name": ".venv",
   "language": "python",
   "name": "python3"
  },
  "language_info": {
   "codemirror_mode": {
    "name": "ipython",
    "version": 3
   },
   "file_extension": ".py",
   "mimetype": "text/x-python",
   "name": "python",
   "nbconvert_exporter": "python",
   "pygments_lexer": "ipython3",
   "version": "3.10.6"
  },
  "orig_nbformat": 4
 },
 "nbformat": 4,
 "nbformat_minor": 2
}
