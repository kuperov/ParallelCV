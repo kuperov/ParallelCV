{
 "cells": [
  {
   "cell_type": "code",
   "execution_count": 1,
   "id": "70ebb9a7-4226-4f58-b5b1-c30cbe938919",
   "metadata": {},
   "outputs": [],
   "source": [
    "from jax import random, numpy as jnp\n",
    "import jax.scipy.stats as st\n",
    "import ploo\n",
    "\n",
    "\n",
    "class GaussianModel(ploo.Model):\n",
    "    name = \"Gaussian mean model\"\n",
    "\n",
    "    def __init__(self, y):\n",
    "        self.y = y\n",
    "        self.folds = jnp.arange(0, len(y))\n",
    "\n",
    "    def log_likelihood(self, model_params, cv_fold):\n",
    "        ll = st.norm.logpdf(self.y, loc=model_params[\"mu\"], scale=1.0)\n",
    "        return jnp.where(self.folds != cv_fold, ll, 0).sum()\n",
    "\n",
    "    def log_prior(self, model_params):\n",
    "        return st.norm.logpdf(model_params[\"mu\"], loc=0.0, scale=1.0)\n",
    "\n",
    "    def log_cond_pred(self, model_params, cv_fold):\n",
    "        y_tilde = self.y[cv_fold]\n",
    "        return st.norm.logpdf(y_tilde, loc=model_params[\"mu\"], scale=1.0)\n",
    "\n",
    "    def initial_value(self):\n",
    "        return {\"mu\": 0.0}\n",
    "\n",
    "    def cv_folds(self):\n",
    "        return len(self.y)\n",
    "\n",
    "    @classmethod\n",
    "    def generate(cls, N, mu, seed):\n",
    "        rng_key = random.PRNGKey(seed=seed)\n",
    "        return mu + random.normal(rng_key, shape=(N,))"
   ]
  },
  {
   "cell_type": "code",
   "execution_count": 2,
   "id": "b911c84f-96e6-448d-bb9b-15ae45497fc4",
   "metadata": {},
   "outputs": [
    {
     "name": "stderr",
     "output_type": "stream",
     "text": [
      "WARNING:absl:No GPU/TPU found, falling back to CPU. (Set TF_CPP_MIN_LOG_LEVEL=0 and rerun for more info.)\n"
     ]
    },
    {
     "name": "stdout",
     "output_type": "stream",
     "text": [
      "Thor's Cross-Validatory Hammer\n",
      "==============================\n",
      "\n",
      "Starting Stan warmup using NUTS...\n",
      "      500 warmup draws took 4.3 sec (116.2 iter/sec).\n",
      "Running full-data inference with 8 chains...\n",
      "      16,000 HMC draws took 2.2 sec (7,352 iter/sec).\n"
     ]
    }
   ],
   "source": [
    "# generate some data\n",
    "y = GaussianModel.generate(N=200, mu=2.5, seed=42)\n",
    "# fit full-data model\n",
    "model = GaussianModel(y)\n",
    "posterior = model.inference()"
   ]
  },
  {
   "cell_type": "code",
   "execution_count": 3,
   "id": "9eee3652-19b5-4050-827b-469b891b6e95",
   "metadata": {},
   "outputs": [
    {
     "data": {
      "text/html": [
       "<div>\n",
       "<style scoped>\n",
       "    .dataframe tbody tr th:only-of-type {\n",
       "        vertical-align: middle;\n",
       "    }\n",
       "\n",
       "    .dataframe tbody tr th {\n",
       "        vertical-align: top;\n",
       "    }\n",
       "\n",
       "    .dataframe thead th {\n",
       "        text-align: right;\n",
       "    }\n",
       "</style>\n",
       "<table border=\"1\" class=\"dataframe\">\n",
       "  <thead>\n",
       "    <tr style=\"text-align: right;\">\n",
       "      <th></th>\n",
       "      <th>mean</th>\n",
       "      <th>sd</th>\n",
       "      <th>hdi_3%</th>\n",
       "      <th>hdi_97%</th>\n",
       "      <th>mcse_mean</th>\n",
       "      <th>mcse_sd</th>\n",
       "      <th>ess_bulk</th>\n",
       "      <th>ess_tail</th>\n",
       "      <th>r_hat</th>\n",
       "    </tr>\n",
       "  </thead>\n",
       "  <tbody>\n",
       "    <tr>\n",
       "      <th>mu</th>\n",
       "      <td>2.614</td>\n",
       "      <td>0.071</td>\n",
       "      <td>2.486</td>\n",
       "      <td>2.75</td>\n",
       "      <td>0.001</td>\n",
       "      <td>0.0</td>\n",
       "      <td>10785.0</td>\n",
       "      <td>12048.0</td>\n",
       "      <td>1.0</td>\n",
       "    </tr>\n",
       "  </tbody>\n",
       "</table>\n",
       "</div>"
      ],
      "text/plain": [
       "     mean     sd  hdi_3%  hdi_97%  mcse_mean  mcse_sd  ess_bulk  ess_tail  \\\n",
       "mu  2.614  0.071   2.486     2.75      0.001      0.0   10785.0   12048.0   \n",
       "\n",
       "    r_hat  \n",
       "mu    1.0  "
      ]
     },
     "execution_count": 3,
     "metadata": {},
     "output_type": "execute_result"
    }
   ],
   "source": [
    "posterior.summary()"
   ]
  },
  {
   "cell_type": "code",
   "execution_count": 4,
   "id": "4ae188a8-ed9b-4040-a236-62e925c7e09a",
   "metadata": {},
   "outputs": [
    {
     "data": {
      "image/png": "[encoded data removed]",
      "text/plain": [
       "<Figure size 432x288 with 1 Axes>"
      ]
     },
     "metadata": {
      "needs_background": "light"
     },
     "output_type": "display_data"
    }
   ],
   "source": [
    "posterior.plot_density();"
   ]
  },
  {
   "cell_type": "code",
   "execution_count": 5,
   "id": "03aa665b-1c59-49b9-a789-419e129e4ef2",
   "metadata": {},
   "outputs": [
    {
     "name": "stdout",
     "output_type": "stream",
     "text": [
      "Cross-validation with 200 folds using 1,600 chains...\n",
      "      3,200,000 HMC draws took 2.9 sec (1,104,941 iter/sec).\n"
     ]
    }
   ],
   "source": [
    "cv = posterior.cross_validate()"
   ]
  },
  {
   "cell_type": "code",
   "execution_count": 6,
   "id": "c33a7769-ed71-4dc3-8a1f-293f5f98fb6e",
   "metadata": {},
   "outputs": [
    {
     "data": {
      "text/plain": [
       "Cross-validation summary\n",
       "========================\n",
       "\n",
       "    elpd = -1.3273 (se 0.0131)\n",
       "\n",
       "Calculated from 200 folds (8 chains per fold, 1,600 total)\n",
       "\n",
       "Average acceptance rate 83.1% (min 79.9%, max 86.2%)\n",
       "\n",
       "Divergent chain count: 0"
      ]
     },
     "execution_count": 6,
     "metadata": {},
     "output_type": "execute_result"
    }
   ],
   "source": [
    "cv"
   ]
  },
  {
   "cell_type": "code",
   "execution_count": null,
   "id": "32dfd768-fc4b-4049-a549-8d7522254b2f",
   "metadata": {},
   "outputs": [],
   "source": []
  }
 ],
 "metadata": {
  "kernelspec": {
   "display_name": "Python 3 (ipykernel)",
   "language": "python",
   "name": "python3"
  },
  "language_info": {
   "codemirror_mode": {
    "name": "ipython",
    "version": 3
   },
   "file_extension": ".py",
   "mimetype": "text/x-python",
   "name": "python",
   "nbconvert_exporter": "python",
   "pygments_lexer": "ipython3",
   "version": "3.8.10"
  }
 },
 "nbformat": 4,
 "nbformat_minor": 5
}
