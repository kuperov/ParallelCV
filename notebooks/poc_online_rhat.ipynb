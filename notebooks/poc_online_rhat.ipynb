{
 "cells": [
  {
   "attachments": {},
   "cell_type": "markdown",
   "metadata": {},
   "source": [
    "# Proof of concept - online rhat"
   ]
  },
  {
   "cell_type": "code",
   "execution_count": 1,
   "metadata": {},
   "outputs": [],
   "source": [
    "import blackjax\n",
    "import jax\n",
    "import jax.numpy as jnp\n",
    "from tensorflow_probability.substrates import jax as tfp\n",
    "from collections import namedtuple\n",
    "from blackjax.diagnostics import potential_scale_reduction\n",
    "import matplotlib.pyplot as plt\n",
    "tfd = tfp.distributions\n",
    "tfb = tfp.bijectors\n",
    "tfpk = tfp.math.psd_kernels"
   ]
  },
  {
   "cell_type": "code",
   "execution_count": 2,
   "metadata": {},
   "outputs": [],
   "source": [
    "Theta = namedtuple('Theta', ['beta', 'sigsq'])"
   ]
  },
  {
   "cell_type": "code",
   "execution_count": 3,
   "metadata": {},
   "outputs": [],
   "source": [
    "WelfordState = namedtuple(\"WelfordState\", [\"K\", \"Ex\", \"Ex2\", \"n\"])\n",
    "\n",
    "def welford_init(K) -> WelfordState:\n",
    "  return WelfordState(K, 0., 0., 0)\n",
    "\n",
    "def welford_add(state: WelfordState, x: float) -> WelfordState:\n",
    "  return WelfordState(state.K, state.Ex + x - state.K, state.Ex2 + (x - state.K)**2, state.n + 1)\n",
    "\n",
    "def welford_mean(state: WelfordState) -> WelfordState:\n",
    "  return state.K + state.Ex / state.n\n",
    "\n",
    "def welford_var(state: WelfordState) -> WelfordState:\n",
    "  return (state.Ex2 - state.Ex**2 / state.n) / (state.n - 1)"
   ]
  },
  {
   "cell_type": "code",
   "execution_count": 4,
   "metadata": {},
   "outputs": [],
   "source": [
    "ExtendedState = namedtuple(\"ExtendedState\", ['state', 'rng_key', 'welford_state'])"
   ]
  },
  {
   "cell_type": "code",
   "execution_count": 5,
   "metadata": {},
   "outputs": [
    {
     "name": "stderr",
     "output_type": "stream",
     "text": [
      "No GPU/TPU found, falling back to CPU. (Set TF_CPP_MIN_LOG_LEVEL=0 and rerun for more info.)\n"
     ]
    }
   ],
   "source": [
    "y_key, X_key = jax.random.split(jax.random.PRNGKey(0))\n",
    "N = 100\n",
    "beta0 = jnp.array([1.0, 2.0, 3.0, 4.0])\n",
    "p = len(beta0)\n",
    "sigsq0 = jnp.array(2.0)\n",
    "X = tfd.Normal(loc=0, scale=1).sample(sample_shape=(N, p), seed=X_key)\n",
    "y = X@beta0 + tfd.Normal(loc=0, scale=jnp.sqrt(sigsq0)).sample(sample_shape=(N,), seed=y_key)"
   ]
  },
  {
   "cell_type": "code",
   "execution_count": 6,
   "metadata": {},
   "outputs": [],
   "source": [
    "# use exp to transform sigsq to unconstrained space\n",
    "sigsq_t = tfb.Exp()\n",
    "\n",
    "beta_prior = tfd.MultivariateNormalDiag(loc=jnp.zeros(p), scale_diag=jnp.ones(p))\n",
    "sigsq_prior = tfd.Gamma(concentration=1.0, rate=1.0)\n",
    "\n",
    "def logprob_fn(theta: Theta):\n",
    "  sigsq = sigsq_t.forward(theta.sigsq)\n",
    "  sigsq_ldj = sigsq_t.forward_log_det_jacobian(theta.sigsq)\n",
    "  lprior = beta_prior.log_prob(theta.beta) + sigsq_prior.log_prob(theta.sigsq)\n",
    "  lhood = tfd.Normal(loc=X@theta.beta, scale=jnp.sqrt(sigsq)).log_prob(y).sum()\n",
    "  return lprior + lhood"
   ]
  },
  {
   "cell_type": "code",
   "execution_count": 7,
   "metadata": {},
   "outputs": [],
   "source": [
    "num_samples = 500\n",
    "warmup_iter = 500\n",
    "num_chains = 5\n",
    "warmup_key, sampling_key, init_key, subs_key = jax.random.split(jax.random.PRNGKey(0), 4)\n",
    "\n",
    "# random initialization in the constrained parameter space\n",
    "def make_initial_pos(key):\n",
    "  k1, k2 = jax.random.split(key)\n",
    "  return Theta(beta=jax.random.normal(key=k1, shape=(p,)), sigsq=jax.random.normal(key=k2))"
   ]
  },
  {
   "cell_type": "code",
   "execution_count": 8,
   "metadata": {},
   "outputs": [
    {
     "name": "stdout",
     "output_type": "stream",
     "text": [
      "Running window adaptation\n"
     ]
    },
    {
     "data": {
      "text/html": [
       "\n",
       "<style>\n",
       "    /* Turns off some styling */\n",
       "    progress {\n",
       "        /* gets rid of default border in Firefox and Opera. */\n",
       "        border: none;\n",
       "        /* Needs to be in here for Safari polyfill so background images work as expected. */\n",
       "        background-size: auto;\n",
       "    }\n",
       "    progress:not([value]), progress:not([value])::-webkit-progress-bar {\n",
       "        background: repeating-linear-gradient(45deg, #7e7e7e, #7e7e7e 10px, #5c5c5c 10px, #5c5c5c 20px);\n",
       "    }\n",
       "    .progress-bar-interrupted, .progress-bar-interrupted::-webkit-progress-bar {\n",
       "        background: #F44336;\n",
       "    }\n",
       "</style>\n"
      ],
      "text/plain": [
       "<IPython.core.display.HTML object>"
      ]
     },
     "metadata": {},
     "output_type": "display_data"
    },
    {
     "data": {
      "text/html": [
       "\n",
       "    <div>\n",
       "      <progress value='500' class='' max='500' style='width:300px; height:20px; vertical-align: middle;'></progress>\n",
       "      100.00% [500/500 00:00&lt;?]\n",
       "    </div>\n",
       "    "
      ],
      "text/plain": [
       "<IPython.core.display.HTML object>"
      ]
     },
     "metadata": {},
     "output_type": "display_data"
    },
    {
     "name": "stdout",
     "output_type": "stream",
     "text": [
      "\n",
      "CPU times: user 3.89 s, sys: 48.7 ms, total: 3.94 s\n",
      "Wall time: 3.9 s\n"
     ]
    }
   ],
   "source": [
    "%%time\n",
    "\n",
    "warmup = blackjax.window_adaptation(blackjax.nuts, logprob_fn, num_steps=warmup_iter, progress_bar=True)\n",
    "final_warmup_state, kernel, info = warmup.run(warmup_key, make_initial_pos(init_key))"
   ]
  },
  {
   "cell_type": "code",
   "execution_count": 9,
   "metadata": {},
   "outputs": [],
   "source": [
    "# sample initial positions from second half of warmup trajectory\n",
    "idxs = jax.random.choice(subs_key, a=jnp.arange(warmup_iter//2, warmup_iter), shape=(num_chains,))\n",
    "initial_positions = Theta(\n",
    "    beta = info[0].position.beta[idxs,],\n",
    "    sigsq = info[0].position.sigsq[idxs]\n",
    ")\n",
    "initial_states = jax.vmap(lambda p: blackjax.nuts.init(p, logprob_fn))(initial_positions)"
   ]
  },
  {
   "cell_type": "code",
   "execution_count": 10,
   "metadata": {},
   "outputs": [
    {
     "data": {
      "text/plain": [
       "[Array(-190.69493, dtype=float32),\n",
       " Array([-190.5587 , -192.4972 , -194.80263, -190.87244, -190.28656],      dtype=float32)]"
      ]
     },
     "execution_count": 10,
     "metadata": {},
     "output_type": "execute_result"
    }
   ],
   "source": [
    "# sense check logprob_fn\n",
    "[logprob_fn(final_warmup_state.position), jax.vmap(logprob_fn)(initial_positions)]"
   ]
  },
  {
   "cell_type": "code",
   "execution_count": 11,
   "metadata": {},
   "outputs": [
    {
     "data": {
      "image/png": "[encoded data removed]",
      "text/plain": [
       "<Figure size 640x480 with 2 Axes>"
      ]
     },
     "metadata": {},
     "output_type": "display_data"
    }
   ],
   "source": [
    "plt.subplot(1,2,1)\n",
    "plt.plot(info[0].position.beta)\n",
    "plt.title('beta warmup')\n",
    "plt.subplot(1,2,2)\n",
    "plt.plot(info[0].position.sigsq)\n",
    "plt.title('sigsq warmup')\n",
    "plt.tight_layout()"
   ]
  },
  {
   "cell_type": "code",
   "execution_count": 12,
   "metadata": {},
   "outputs": [],
   "source": [
    "def jax_lax_fori_loop(lower, upper, body_fun, init_val):\n",
    "    val = init_val\n",
    "    for i in range(lower, upper):\n",
    "        val = body_fun(i, val)\n",
    "    return val"
   ]
  },
  {
   "cell_type": "code",
   "execution_count": 15,
   "metadata": {},
   "outputs": [],
   "source": [
    "# single chain inference loop we will run in parallel using vmap\n",
    "def inference_loop(rng_key, kernel, initial_state, num_samples):\n",
    "    def one_step(i, extended_state):\n",
    "        i_key, carry_key = jax.random.split(extended_state.rng_key)\n",
    "        chain_state, _ = kernel(i_key, extended_state.state)\n",
    "        e = X @ chain_state.position.beta - y\n",
    "        elpd_contrib = -0.5 * (\n",
    "            jnp.log(2 * jnp.pi)\n",
    "            + jnp.log(chain_state.position.sigsq)\n",
    "            + jnp.dot(e, e)/chain_state.position.sigsq\n",
    "        )\n",
    "        carry_welford_state = welford_add(extended_state.welford_state, elpd_contrib)\n",
    "        carry_state = ExtendedState(chain_state, carry_key, carry_welford_state)\n",
    "        return carry_state  # we'll eventually drop chain state and return None instead\n",
    "    # split the chain\n",
    "    initial_state_1h = ExtendedState(initial_state, rng_key, welford_init(0))\n",
    "    carry_state_1h = jax.lax.fori_loop(0, num_samples//2, one_step, initial_state_1h)\n",
    "    initial_state_2h = ExtendedState(initial_state_1h.state, initial_state_1h.rng_key, welford_init(0))\n",
    "    carry_state_2h = jax.lax.fori_loop(0, num_samples//2, one_step, carry_state_1h)\n",
    "    # combine the chain halves for debugging (we'll drop this later)\n",
    "    #states = jnp.vstack((states_1h, states_2h))\n",
    "    return carry_state_1h, carry_state_2h #, states"
   ]
  },
  {
   "cell_type": "code",
   "execution_count": 16,
   "metadata": {},
   "outputs": [
    {
     "data": {
      "text/plain": [
       "(ExtendedState(state=HMCState(position=Theta(beta=Array([0.8277628, 1.5127527, 2.8520634, 3.9402685], dtype=float32), sigsq=Array(0.64826894, dtype=float32)), potential_energy=Array(192.31618, dtype=float32), potential_energy_grad=Theta(beta=Array([  2.8077207, -13.579062 ,   2.771546 ,   6.8802266], dtype=float32), sigsq=Array(0.631957, dtype=float32))), rng_key=Array([4205885708, 1313433263], dtype=uint32), welford_state=WelfordState(K=Array(0, dtype=int32, weak_type=True), Ex=Array(-40264.15, dtype=float32), Ex2=Array(7004402., dtype=float32), n=Array(250, dtype=int32, weak_type=True))),\n",
       " ExtendedState(state=HMCState(position=Theta(beta=Array([0.7355648, 1.9075307, 2.7324188, 3.8594103], dtype=float32), sigsq=Array(0.90825325, dtype=float32)), potential_energy=Array(192.54556, dtype=float32), potential_energy_grad=Theta(beta=Array([-0.36877728,  5.300981  , -1.8270428 ,  3.6266057 ], dtype=float32), sigsq=Array(13.615411, dtype=float32))), rng_key=Array([ 379538489, 3010605437], dtype=uint32), welford_state=WelfordState(K=Array(0, dtype=int32, weak_type=True), Ex=Array(-79715.5, dtype=float32), Ex2=Array(13636213., dtype=float32), n=Array(500, dtype=int32, weak_type=True))))"
      ]
     },
     "execution_count": 16,
     "metadata": {},
     "output_type": "execute_result"
    }
   ],
   "source": [
    "inference_loop(sampling_key, kernel, final_warmup_state, num_samples)"
   ]
  },
  {
   "cell_type": "code",
   "execution_count": 34,
   "metadata": {},
   "outputs": [
    {
     "name": "stdout",
     "output_type": "stream",
     "text": [
      "CPU times: user 7.6 s, sys: 48 ms, total: 7.65 s\n",
      "Wall time: 7.61 s\n"
     ]
    }
   ],
   "source": [
    "%%time\n",
    "\n",
    "sampling_keys = jax.random.split(sampling_key, num_chains)\n",
    "\n",
    "results = jax.vmap(inference_loop, in_axes=(0, None, 0, None))(\n",
    "    sampling_keys, kernel, initial_states, num_samples)\n",
    "#_ = states.position.sigsq[0,0].block_until_ready()"
   ]
  },
  {
   "cell_type": "code",
   "execution_count": 39,
   "metadata": {},
   "outputs": [
    {
     "data": {
      "text/plain": [
       "WelfordState(K=Array([0, 0, 0, 0, 0], dtype=int32, weak_type=True), Ex=Array([-39094.906, -40108.715, -40079.46 , -39663.918, -40298.207],      dtype=float32), Ex2=Array([6446369. , 6910354.5, 6843627.5, 6719583.5, 7059582. ], dtype=float32), n=Array([250, 250, 250, 250, 250], dtype=int32, weak_type=True))"
      ]
     },
     "execution_count": 39,
     "metadata": {},
     "output_type": "execute_result"
    }
   ],
   "source": [
    "results[0].welford_state"
   ]
  },
  {
   "cell_type": "code",
   "execution_count": 46,
   "metadata": {},
   "outputs": [],
   "source": [
    "def split_rhat(results):\n",
    "    # split chain means\n",
    "    means = jnp.hstack([\n",
    "        jax.vmap(welford_mean)(results[0].welford_state),\n",
    "        jax.vmap(welford_mean)(results[1].welford_state)])\n",
    "    # split chain sample variances\n",
    "    vars = jnp.hstack([\n",
    "        jax.vmap(welford_var)(results[0].welford_state),\n",
    "        jax.vmap(welford_var)(results[1].welford_state)])\n",
    "    W = jnp.mean(vars)\n",
    "    # number of draws per split chain (ie half draws in an original chain)\n",
    "    n = results[0].welford_state.n[0]\n",
    "    # number of split chains\n",
    "    m = len(means)\n",
    "    B = n*jnp.var(means, ddof=1)\n",
    "    varplus = (n-1)/n*W + B/n\n",
    "    Rhat = jnp.sqrt(varplus/W)\n",
    "    return Rhat"
   ]
  },
  {
   "cell_type": "code",
   "execution_count": 47,
   "metadata": {},
   "outputs": [
    {
     "name": "stdout",
     "output_type": "stream",
     "text": [
      "W = 1777.810546875\n",
      "chain_means = [-156.37962 -160.43486 -160.31784 -158.65567 -161.19283 -156.04256\n",
      " -158.97006 -160.84418 -158.3734  -158.82475]\n",
      "B = 782.2366333007812\n",
      "Rhat = 0.9988793730735779\n"
     ]
    },
    {
     "data": {
      "text/plain": [
       "Array(0.9988794, dtype=float32)"
      ]
     },
     "execution_count": 47,
     "metadata": {},
     "output_type": "execute_result"
    }
   ],
   "source": [
    "split_rhat(results)"
   ]
  },
  {
   "cell_type": "code",
   "execution_count": null,
   "metadata": {},
   "outputs": [
    {
     "name": "stdout",
     "output_type": "stream",
     "text": [
      "E[sigsq|y] = 1.91100013256073\n",
      "E[beta|y]  = [0.762 1.784 2.785 3.801]\n",
      "beta rhat  = [1.        1.001     0.9990001 1.       ]\n",
      "sigsq rhat = 1.0\n"
     ]
    }
   ],
   "source": [
    "# results\n",
    "sigsq = sigsq_t.forward(states.position.sigsq)\n",
    "print(f\"E[sigsq|y] = {jnp.mean(sigsq, axis=(0,1)).round(3)}\")\n",
    "print(f\"E[beta|y]  = {jnp.mean(states.position.beta, axis=(0,1)).round(3)}\")\n",
    "# diagnostics\n",
    "print(f\"beta rhat  = {potential_scale_reduction(states.position.beta).round(3)}\")\n",
    "print(f\"sigsq rhat = {potential_scale_reduction(states.position.sigsq).round(3)}\")"
   ]
  },
  {
   "cell_type": "code",
   "execution_count": null,
   "metadata": {},
   "outputs": [
    {
     "name": "stdout",
     "output_type": "stream",
     "text": [
      "n = 500, m = 5\n",
      "s_m^2 = [0.02400166 0.02173505 0.02137453 0.02078675 0.01970645]\n",
      "W = 0.021520888432860374\n"
     ]
    }
   ],
   "source": [
    "# replicate rhat for sigsq, easier because univariate\n",
    "\n",
    "# notation from Vats et al\n",
    "\n",
    "n = states.position.sigsq.shape[1]\n",
    "m = states.position.sigsq.shape[0]\n",
    "print(f\"n = {n}, m = {m}\")\n",
    "# mean of individual chain sample variances\n",
    "chain_sample_variances = jnp.var(states.position.sigsq, ddof=1, axis=1)\n",
    "print(f\"s_m^2 = {chain_sample_variances}\")\n",
    "W = jnp.mean(chain_sample_variances)\n",
    "print(f\"W = {W}\")"
   ]
  },
  {
   "cell_type": "code",
   "execution_count": null,
   "metadata": {},
   "outputs": [
    {
     "name": "stdout",
     "output_type": "stream",
     "text": [
      "chain_means = [0.64173055 0.6421851  0.6357067  0.63912946 0.6260952 ]\n",
      "B = 0.02179761603474617\n"
     ]
    }
   ],
   "source": [
    "chain_means = jnp.mean(states.position.sigsq, axis=1)\n",
    "print(f\"chain_means = {chain_means}\")\n",
    "B = n*jnp.var(chain_means, ddof=1)\n",
    "print(f\"B = {B}\")"
   ]
  }
 ],
 "metadata": {
  "kernelspec": {
   "display_name": ".venv",
   "language": "python",
   "name": "python3"
  },
  "language_info": {
   "codemirror_mode": {
    "name": "ipython",
    "version": 3
   },
   "file_extension": ".py",
   "mimetype": "text/x-python",
   "name": "python",
   "nbconvert_exporter": "python",
   "pygments_lexer": "ipython3",
   "version": "3.10.6"
  },
  "orig_nbformat": 4,
  "vscode": {
   "interpreter": {
    "hash": "7b244e6cf922c9b0621775d312a136f9c0e093f5a4d6569bbfcf3ecc99e4276f"
   }
  }
 },
 "nbformat": 4,
 "nbformat_minor": 2
}
