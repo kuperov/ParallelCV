{
 "cells": [
  {
   "attachments": {},
   "cell_type": "markdown",
   "metadata": {},
   "source": [
    "# Proof of concept - online rhat"
   ]
  },
  {
   "cell_type": "code",
   "execution_count": 135,
   "metadata": {},
   "outputs": [],
   "source": [
    "import blackjax\n",
    "import jax\n",
    "import chex\n",
    "import jax.numpy as jnp\n",
    "import arviz as az\n",
    "from tensorflow_probability.substrates import jax as tfp\n",
    "from collections import namedtuple\n",
    "from blackjax.diagnostics import potential_scale_reduction\n",
    "import matplotlib.pyplot as plt\n",
    "from typing import NamedTuple\n",
    "from jax.tree_util import tree_map, tree_structure\n",
    "import pandas as pd\n",
    "\n",
    "tfd = tfp.distributions\n",
    "tfb = tfp.bijectors\n",
    "tfpk = tfp.math.psd_kernels"
   ]
  },
  {
   "attachments": {},
   "cell_type": "markdown",
   "metadata": {},
   "source": [
    "ADT for the welford algorithm that tracks mean and variance for each chain variable of interest. This type will end up being the leaf of a pytree structured like the parameter."
   ]
  },
  {
   "cell_type": "code",
   "execution_count": 136,
   "metadata": {},
   "outputs": [],
   "source": [
    "class WelfordState(NamedTuple):\n",
    "    K: chex.Array\n",
    "    Ex: chex.Array\n",
    "    Ex2: chex.Array\n",
    "    n: chex.Array\n",
    "\n",
    "\n",
    "def welford_init(K) -> WelfordState:\n",
    "  \"\"\"Initialize new welford algorithm state.\n",
    "  \n",
    "  Args:\n",
    "    K: estimated mean value of data. Same shape as data.\n",
    "  \"\"\"\n",
    "  return WelfordState(K=K*1., Ex=K*0., Ex2=K*0., n=K*0)\n",
    "\n",
    "def welford_add(x: chex.Array, state: WelfordState) -> WelfordState:\n",
    "  return WelfordState(K=state.K, Ex=state.Ex + x - state.K, Ex2=state.Ex2 + (x - state.K)**2, n=state.n + 1)\n",
    "\n",
    "def welford_mean(state: WelfordState):\n",
    "  return state.K + state.Ex / state.n\n",
    "\n",
    "def welford_var(state: WelfordState):\n",
    "  return (state.Ex2 - state.Ex**2 / state.n) / (state.n - 1)"
   ]
  },
  {
   "cell_type": "code",
   "execution_count": 137,
   "metadata": {},
   "outputs": [],
   "source": [
    "class Theta(NamedTuple):\n",
    "    beta: chex.Array\n",
    "    sigsq: chex.Array"
   ]
  },
  {
   "cell_type": "code",
   "execution_count": 138,
   "metadata": {},
   "outputs": [],
   "source": [
    "class ExtendedState(NamedTuple):\n",
    "    state: blackjax.mcmc.hmc.HMCState  # current HMC state\n",
    "    rng_key: chex.Array  # current random seed\n",
    "    pred_ws: WelfordState  # accumulator for predictive\n",
    "    param_ws: WelfordState  # accumulator for parameters\n",
    "    divergences: chex.Array  # divergence counts (int array)"
   ]
  },
  {
   "cell_type": "code",
   "execution_count": 139,
   "metadata": {},
   "outputs": [],
   "source": [
    "y_key, X_key = jax.random.split(jax.random.PRNGKey(0))\n",
    "N = 100\n",
    "beta0 = jnp.array([1.0, 2.0, 3.0, 4.0])\n",
    "p = len(beta0)\n",
    "sigsq0 = jnp.array(2.0)\n",
    "X = tfd.Normal(loc=0, scale=1).sample(sample_shape=(N, p), seed=X_key)\n",
    "y = X@beta0 + tfd.Normal(loc=0, scale=jnp.sqrt(sigsq0)).sample(sample_shape=(N,), seed=y_key)"
   ]
  },
  {
   "cell_type": "code",
   "execution_count": 140,
   "metadata": {},
   "outputs": [],
   "source": [
    "# use exp to transform sigsq to unconstrained space\n",
    "sigsq_t = tfb.Exp()\n",
    "\n",
    "beta_prior = tfd.MultivariateNormalDiag(loc=jnp.zeros(p), scale_diag=jnp.ones(p))\n",
    "sigsq_prior = tfd.Gamma(concentration=1.0, rate=1.0)\n",
    "\n",
    "def logprob_fn(theta: Theta):\n",
    "  sigsq = sigsq_t.forward(theta.sigsq)\n",
    "  sigsq_ldj = sigsq_t.forward_log_det_jacobian(theta.sigsq)\n",
    "  lprior = beta_prior.log_prob(theta.beta) + sigsq_prior.log_prob(theta.sigsq)\n",
    "  lhood = tfd.Normal(loc=X@theta.beta, scale=jnp.sqrt(sigsq)).log_prob(y).sum()\n",
    "  return lprior + lhood"
   ]
  },
  {
   "cell_type": "code",
   "execution_count": 141,
   "metadata": {},
   "outputs": [],
   "source": [
    "num_samples = 100\n",
    "warmup_iter = 500\n",
    "num_chains = 3\n",
    "seed = 123\n",
    "warmup_key, sampling_key, init_key, subs_key = jax.random.split(jax.random.PRNGKey(seed), 4)\n",
    "\n",
    "# random initialization in the constrained parameter space\n",
    "def make_initial_pos(key, pid):\n",
    "  k1, k2 = jax.random.split(key)\n",
    "  theta = Theta(\n",
    "    beta=jax.random.normal(key=k1, shape=(p,)),\n",
    "    sigsq=jax.random.normal(key=k2))\n",
    "  return theta"
   ]
  },
  {
   "cell_type": "code",
   "execution_count": 142,
   "metadata": {},
   "outputs": [
    {
     "name": "stdout",
     "output_type": "stream",
     "text": [
      "Running window adaptation\n"
     ]
    },
    {
     "data": {
      "text/html": [
       "\n",
       "<style>\n",
       "    /* Turns off some styling */\n",
       "    progress {\n",
       "        /* gets rid of default border in Firefox and Opera. */\n",
       "        border: none;\n",
       "        /* Needs to be in here for Safari polyfill so background images work as expected. */\n",
       "        background-size: auto;\n",
       "    }\n",
       "    progress:not([value]), progress:not([value])::-webkit-progress-bar {\n",
       "        background: repeating-linear-gradient(45deg, #7e7e7e, #7e7e7e 10px, #5c5c5c 10px, #5c5c5c 20px);\n",
       "    }\n",
       "    .progress-bar-interrupted, .progress-bar-interrupted::-webkit-progress-bar {\n",
       "        background: #F44336;\n",
       "    }\n",
       "</style>\n"
      ],
      "text/plain": [
       "<IPython.core.display.HTML object>"
      ]
     },
     "metadata": {},
     "output_type": "display_data"
    },
    {
     "data": {
      "text/html": [
       "\n",
       "    <div>\n",
       "      <progress value='500' class='' max='500' style='width:300px; height:20px; vertical-align: middle;'></progress>\n",
       "      100.00% [500/500 00:00&lt;?]\n",
       "    </div>\n",
       "    "
      ],
      "text/plain": [
       "<IPython.core.display.HTML object>"
      ]
     },
     "metadata": {},
     "output_type": "display_data"
    },
    {
     "name": "stdout",
     "output_type": "stream",
     "text": [
      "\n",
      "CPU times: user 3.64 s, sys: 6.92 ms, total: 3.65 s\n",
      "Wall time: 3.61 s\n"
     ]
    }
   ],
   "source": [
    "%%time\n",
    "\n",
    "warmup = blackjax.window_adaptation(blackjax.nuts, logprob_fn, num_steps=warmup_iter, progress_bar=True)\n",
    "final_warmup_state, kernel, info = warmup.run(warmup_key, make_initial_pos(init_key, 0))"
   ]
  },
  {
   "cell_type": "code",
   "execution_count": 143,
   "metadata": {},
   "outputs": [],
   "source": [
    "# sample initial positions from second half of warmup trajectory\n",
    "idxs = jax.random.choice(subs_key, a=jnp.arange(warmup_iter//2, warmup_iter), shape=(num_chains,))\n",
    "initial_positions = Theta(\n",
    "    beta = info[0].position.beta[idxs,],\n",
    "    sigsq = info[0].position.sigsq[idxs]\n",
    ")\n",
    "initial_states = jax.vmap(lambda p: blackjax.nuts.init(p, logprob_fn))(initial_positions)"
   ]
  },
  {
   "cell_type": "code",
   "execution_count": 144,
   "metadata": {},
   "outputs": [
    {
     "data": {
      "text/plain": [
       "[Array(-193.98865, dtype=float32),\n",
       " Array([-193.38307, -191.24486, -195.57587], dtype=float32)]"
      ]
     },
     "execution_count": 144,
     "metadata": {},
     "output_type": "execute_result"
    }
   ],
   "source": [
    "# sense check logprob_fn\n",
    "[logprob_fn(final_warmup_state.position), jax.vmap(logprob_fn)(initial_positions)]"
   ]
  },
  {
   "attachments": {},
   "cell_type": "markdown",
   "metadata": {},
   "source": [
    "Seems pretty safe to sample from second half of warmup trace:"
   ]
  },
  {
   "cell_type": "code",
   "execution_count": 145,
   "metadata": {},
   "outputs": [
    {
     "data": {
      "image/png": "[encoded data removed]",
      "text/plain": [
       "<Figure size 1000x260 with 2 Axes>"
      ]
     },
     "metadata": {},
     "output_type": "display_data"
    }
   ],
   "source": [
    "fig, axes = plt.subplots(1,2, figsize=(10,2.6))\n",
    "bax, sax = axes\n",
    "bax.plot(info[0].position.beta)\n",
    "bax.set_title(r'$\\beta$ warmup')\n",
    "sax.plot(info[0].position.sigsq)\n",
    "sax.set_title(r'$\\sigma^2$ warmup')\n",
    "for ax in axes:\n",
    "    ax.set_xlabel('iteration')\n",
    "    ax.axvline(warmup_iter//2, color='k', linestyle='--')\n",
    "    ax.set_xlim(0, info[0].position.beta.shape[0])\n",
    "fig.suptitle('Nuts warmup trajectories', fontsize=14)\n",
    "fig.tight_layout()"
   ]
  },
  {
   "attachments": {},
   "cell_type": "markdown",
   "metadata": {},
   "source": [
    "Named tuple for holding MCMC results, split into 2 half-chains"
   ]
  },
  {
   "cell_type": "code",
   "execution_count": 146,
   "metadata": {},
   "outputs": [],
   "source": [
    "# stack arrays in pytrees\n",
    "def tree_stack(trees):\n",
    "    return tree_map(lambda *xs: jnp.stack(xs, axis=0), *trees)\n",
    "\n",
    "# stack arrays in pytrees\n",
    "def tree_concat(trees):\n",
    "    return tree_map(lambda *xs: jnp.concatenate(xs, axis=0), *trees)"
   ]
  },
  {
   "cell_type": "code",
   "execution_count": 147,
   "metadata": {},
   "outputs": [],
   "source": [
    "# single chain inference loop we will run in parallel using vmap\n",
    "def inference_loop(rng_key, kernel, initial_state, num_samples):\n",
    "    def log_p(theta):\n",
    "        e = X @ theta.beta - y\n",
    "        return -0.5 * (\n",
    "            jnp.log(2 * jnp.pi)\n",
    "            + jnp.log(theta.sigsq)\n",
    "            + jnp.dot(e, e)/theta.sigsq\n",
    "        )\n",
    "    def one_mcmc_step(ext_state, idx):\n",
    "        i_key, carry_key = jax.random.split(ext_state.rng_key)\n",
    "        chain_state, chain_info = kernel(i_key, ext_state.state)\n",
    "        elpd_contrib = log_p(chain_state.position)\n",
    "        div_count = ext_state.divergences + chain_info.is_divergent.astype(jnp.float32)\n",
    "        carry_pred_ws = welford_add(elpd_contrib, ext_state.pred_ws)\n",
    "        carry_param_ws = tree_map(welford_add, chain_state.position, ext_state.param_ws)\n",
    "        carry_state = ExtendedState(chain_state, carry_key, carry_pred_ws, carry_param_ws, div_count)\n",
    "        return carry_state, chain_state  # we'll eventually drop chain state and return None instead\n",
    "    # first half of chain\n",
    "    initial_state_1h = ExtendedState(\n",
    "        initial_state,\n",
    "        rng_key,\n",
    "        pred_ws=welford_init(log_p(initial_state.position)),\n",
    "        param_ws=tree_map(welford_init, initial_state.position),\n",
    "        divergences=0)\n",
    "    #carry_state_1h = jax.lax.fori_loop(0, num_samples//2, one_step, initial_state_1h)\n",
    "    carry_state_1h, states_1h = jax.lax.scan(one_mcmc_step, initial_state_1h, jnp.arange(0, num_samples//2))\n",
    "    # second half of chain - continue at same point but accumulate into new welford states\n",
    "    initial_state_2h = ExtendedState(\n",
    "        carry_state_1h.state,\n",
    "        carry_state_1h.rng_key,\n",
    "        pred_ws=welford_init(log_p(carry_state_1h.state.position)),\n",
    "        param_ws=tree_map(welford_init, carry_state_1h.state.position),\n",
    "        divergences=0)\n",
    "    #carry_state_2h = jax.lax.fori_loop(0, num_samples//2, one_step, carry_state_1h)\n",
    "    carry_state_2h, states_2h = jax.lax.scan(one_mcmc_step, initial_state_2h, jnp.arange(num_samples//2, num_samples))\n",
    "    return tree_stack((carry_state_1h, carry_state_2h,)), tree_concat((states_1h, states_2h,))"
   ]
  },
  {
   "cell_type": "code",
   "execution_count": 148,
   "metadata": {},
   "outputs": [],
   "source": [
    "def to_arviz(theta):\n",
    "    theta_dict = dict(zip(theta.position._fields, theta.position))\n",
    "    return az.convert_to_inference_data(theta_dict)"
   ]
  },
  {
   "cell_type": "code",
   "execution_count": 149,
   "metadata": {},
   "outputs": [],
   "source": [
    "# smoke test a single chain\n",
    "# state, trace = inference_loop(sampling_key, kernel, final_warmup_state, num_samples)"
   ]
  },
  {
   "cell_type": "code",
   "execution_count": 150,
   "metadata": {},
   "outputs": [
    {
     "name": "stdout",
     "output_type": "stream",
     "text": [
      "CPU times: user 6.33 s, sys: 29.6 ms, total: 6.35 s\n",
      "Wall time: 6.33 s\n"
     ]
    }
   ],
   "source": [
    "%%time\n",
    "\n",
    "sampling_keys = jax.random.split(sampling_key, num_chains)\n",
    "\n",
    "state, trace = jax.vmap(inference_loop, in_axes=(0, None, 0, None))(sampling_keys, kernel, initial_states, num_samples)"
   ]
  },
  {
   "cell_type": "code",
   "execution_count": 151,
   "metadata": {},
   "outputs": [
    {
     "data": {
      "text/html": [
       "<div>\n",
       "<style scoped>\n",
       "    .dataframe tbody tr th:only-of-type {\n",
       "        vertical-align: middle;\n",
       "    }\n",
       "\n",
       "    .dataframe tbody tr th {\n",
       "        vertical-align: top;\n",
       "    }\n",
       "\n",
       "    .dataframe thead th {\n",
       "        text-align: right;\n",
       "    }\n",
       "</style>\n",
       "<table border=\"1\" class=\"dataframe\">\n",
       "  <thead>\n",
       "    <tr style=\"text-align: right;\">\n",
       "      <th></th>\n",
       "      <th>mean</th>\n",
       "      <th>sd</th>\n",
       "      <th>hdi_3%</th>\n",
       "      <th>hdi_97%</th>\n",
       "      <th>mcse_mean</th>\n",
       "      <th>mcse_sd</th>\n",
       "      <th>ess_bulk</th>\n",
       "      <th>ess_tail</th>\n",
       "      <th>r_hat</th>\n",
       "    </tr>\n",
       "  </thead>\n",
       "  <tbody>\n",
       "    <tr>\n",
       "      <th>beta[0]</th>\n",
       "      <td>0.759</td>\n",
       "      <td>0.139</td>\n",
       "      <td>0.514</td>\n",
       "      <td>1.022</td>\n",
       "      <td>0.005</td>\n",
       "      <td>0.004</td>\n",
       "      <td>725.0</td>\n",
       "      <td>530.0</td>\n",
       "      <td>1.0</td>\n",
       "    </tr>\n",
       "    <tr>\n",
       "      <th>beta[1]</th>\n",
       "      <td>1.783</td>\n",
       "      <td>0.135</td>\n",
       "      <td>1.495</td>\n",
       "      <td>2.003</td>\n",
       "      <td>0.005</td>\n",
       "      <td>0.003</td>\n",
       "      <td>870.0</td>\n",
       "      <td>376.0</td>\n",
       "      <td>1.0</td>\n",
       "    </tr>\n",
       "    <tr>\n",
       "      <th>beta[2]</th>\n",
       "      <td>2.788</td>\n",
       "      <td>0.124</td>\n",
       "      <td>2.574</td>\n",
       "      <td>3.027</td>\n",
       "      <td>0.005</td>\n",
       "      <td>0.004</td>\n",
       "      <td>557.0</td>\n",
       "      <td>393.0</td>\n",
       "      <td>1.0</td>\n",
       "    </tr>\n",
       "    <tr>\n",
       "      <th>beta[3]</th>\n",
       "      <td>3.801</td>\n",
       "      <td>0.132</td>\n",
       "      <td>3.523</td>\n",
       "      <td>4.015</td>\n",
       "      <td>0.004</td>\n",
       "      <td>0.003</td>\n",
       "      <td>1210.0</td>\n",
       "      <td>497.0</td>\n",
       "      <td>1.0</td>\n",
       "    </tr>\n",
       "    <tr>\n",
       "      <th>sigsq</th>\n",
       "      <td>0.630</td>\n",
       "      <td>0.162</td>\n",
       "      <td>0.355</td>\n",
       "      <td>0.945</td>\n",
       "      <td>0.006</td>\n",
       "      <td>0.004</td>\n",
       "      <td>764.0</td>\n",
       "      <td>388.0</td>\n",
       "      <td>1.0</td>\n",
       "    </tr>\n",
       "  </tbody>\n",
       "</table>\n",
       "</div>"
      ],
      "text/plain": [
       "          mean     sd  hdi_3%  hdi_97%  mcse_mean  mcse_sd  ess_bulk  \\\n",
       "beta[0]  0.759  0.139   0.514    1.022      0.005    0.004     725.0   \n",
       "beta[1]  1.783  0.135   1.495    2.003      0.005    0.003     870.0   \n",
       "beta[2]  2.788  0.124   2.574    3.027      0.005    0.004     557.0   \n",
       "beta[3]  3.801  0.132   3.523    4.015      0.004    0.003    1210.0   \n",
       "sigsq    0.630  0.162   0.355    0.945      0.006    0.004     764.0   \n",
       "\n",
       "         ess_tail  r_hat  \n",
       "beta[0]     530.0    1.0  \n",
       "beta[1]     376.0    1.0  \n",
       "beta[2]     393.0    1.0  \n",
       "beta[3]     497.0    1.0  \n",
       "sigsq       388.0    1.0  "
      ]
     },
     "execution_count": 151,
     "metadata": {},
     "output_type": "execute_result"
    }
   ],
   "source": [
    "trace_az = to_arviz(trace)\n",
    "az.summary(trace_az)"
   ]
  },
  {
   "cell_type": "code",
   "execution_count": 152,
   "metadata": {},
   "outputs": [
    {
     "data": {
      "image/png": "[encoded data removed]",
      "text/plain": [
       "<Figure size 1200x200 with 5 Axes>"
      ]
     },
     "metadata": {},
     "output_type": "display_data"
    }
   ],
   "source": [
    "az.plot_density(trace_az, var_names=['beta', 'sigsq'], figsize=(12,2), shade=0.2, grid=(1,5))\n",
    "fig.tight_layout()"
   ]
  },
  {
   "cell_type": "code",
   "execution_count": 153,
   "metadata": {},
   "outputs": [
    {
     "data": {
      "text/plain": [
       "Theta(beta=(3, 200, 4), sigsq=(3, 200))"
      ]
     },
     "execution_count": 153,
     "metadata": {},
     "output_type": "execute_result"
    }
   ],
   "source": [
    "tree_map(jnp.shape, trace.position)"
   ]
  },
  {
   "cell_type": "code",
   "execution_count": 154,
   "metadata": {},
   "outputs": [
    {
     "data": {
      "text/plain": [
       "Theta(beta=(3, 2, 4), sigsq=(3, 2))"
      ]
     },
     "execution_count": 154,
     "metadata": {},
     "output_type": "execute_result"
    }
   ],
   "source": [
    "tree_map(jnp.shape, state.state.position)"
   ]
  },
  {
   "cell_type": "code",
   "execution_count": 155,
   "metadata": {},
   "outputs": [],
   "source": [
    "def split_rhat(means: chex.Array, vars: chex.Array, n: int) -> float:\n",
    "    \"\"\"Compute a single split Rhat from summary statistics of split chains.\n",
    "\n",
    "    Args:\n",
    "        means: means of split chains\n",
    "        vars:  variances of split chains\n",
    "        n:     number of draws per split chain (ie half draws in an original chain)\n",
    "    \"\"\"\n",
    "    W = jnp.mean(vars, axis=0)\n",
    "    m = len(means)  # number of split chains\n",
    "    B = n*jnp.var(means, ddof=1, axis=0)\n",
    "    varplus = (n-1)/n*W + B/n\n",
    "    Rhat = jnp.sqrt(varplus/W)\n",
    "    return Rhat\n",
    "\n",
    "def split_rhat_welford(ws: WelfordState) -> float:\n",
    "    \"\"\"Compute a single split Rhat from Welford state of split chains.\n",
    "\n",
    "    Args:\n",
    "        ws: Welford state of split chains\n",
    "    \"\"\"\n",
    "    means = jax.vmap(welford_mean)(ws)\n",
    "    vars = jax.vmap(welford_var)(ws)\n",
    "    n = ws.n[0]\n",
    "    return split_rhat(means, vars, n)\n",
    "\n",
    "def split_rhat_state(welford_tree):\n",
    "    \"\"\"Compute split Rhat from welford states of split chains.\n",
    "    \n",
    "    Args:\n",
    "        welford_tree: Pytree of Welford states for split chains\n",
    "    \"\"\"\n",
    "    # first two axes are (chain #, half #), which we combine to a single dimension\n",
    "    com_chains = tree_map(lambda x: jnp.reshape(x, (-1, *x.shape[2:])), welford_tree)\n",
    "    rhats = tree_map(split_rhat_welford, com_chains, is_leaf=lambda x: isinstance(x, WelfordState))\n",
    "    return rhats"
   ]
  },
  {
   "cell_type": "code",
   "execution_count": 174,
   "metadata": {},
   "outputs": [
    {
     "data": {
      "text/plain": [
       "Theta(beta=Array([1.0001103 , 0.9975106 , 0.99902165, 0.9967148 ], dtype=float32), sigsq=Array(0.9982389, dtype=float32))"
      ]
     },
     "execution_count": 174,
     "metadata": {},
     "output_type": "execute_result"
    }
   ],
   "source": [
    "s_rhats = split_rhat_state(state.param_ws)\n",
    "s_rhats"
   ]
  },
  {
   "cell_type": "code",
   "execution_count": 178,
   "metadata": {},
   "outputs": [
    {
     "data": {
      "text/html": [
       "<div>\n",
       "<style scoped>\n",
       "    .dataframe tbody tr th:only-of-type {\n",
       "        vertical-align: middle;\n",
       "    }\n",
       "\n",
       "    .dataframe tbody tr th {\n",
       "        vertical-align: top;\n",
       "    }\n",
       "\n",
       "    .dataframe thead th {\n",
       "        text-align: right;\n",
       "    }\n",
       "</style>\n",
       "<table border=\"1\" class=\"dataframe\">\n",
       "  <thead>\n",
       "    <tr style=\"text-align: right;\">\n",
       "      <th></th>\n",
       "      <th>beta</th>\n",
       "      <th>sigsq</th>\n",
       "    </tr>\n",
       "    <tr>\n",
       "      <th>beta_dim_0</th>\n",
       "      <th></th>\n",
       "      <th></th>\n",
       "    </tr>\n",
       "  </thead>\n",
       "  <tbody>\n",
       "    <tr>\n",
       "      <th>0</th>\n",
       "      <td>1.000110</td>\n",
       "      <td>0.998239</td>\n",
       "    </tr>\n",
       "    <tr>\n",
       "      <th>1</th>\n",
       "      <td>0.997511</td>\n",
       "      <td>0.998239</td>\n",
       "    </tr>\n",
       "    <tr>\n",
       "      <th>2</th>\n",
       "      <td>0.999022</td>\n",
       "      <td>0.998239</td>\n",
       "    </tr>\n",
       "    <tr>\n",
       "      <th>3</th>\n",
       "      <td>0.996715</td>\n",
       "      <td>0.998239</td>\n",
       "    </tr>\n",
       "  </tbody>\n",
       "</table>\n",
       "</div>"
      ],
      "text/plain": [
       "                beta     sigsq\n",
       "beta_dim_0                    \n",
       "0           1.000110  0.998239\n",
       "1           0.997511  0.998239\n",
       "2           0.999022  0.998239\n",
       "3           0.996715  0.998239"
      ]
     },
     "execution_count": 178,
     "metadata": {},
     "output_type": "execute_result"
    }
   ],
   "source": [
    "rhats_df_az = az.rhat(trace_az, method='split').to_dataframe()\n",
    "# verify they match\n",
    "assert jnp.linalg.norm(rhats_df_az.beta.to_numpy() - s_rhats.beta) < 1e-6\n",
    "assert jnp.abs(rhats_df_az.sigsq.to_numpy()[0] - s_rhats.sigsq) < 1e-6\n",
    "rhats_df_az"
   ]
  },
  {
   "cell_type": "code",
   "execution_count": 158,
   "metadata": {},
   "outputs": [
    {
     "data": {
      "text/plain": [
       "Array(1.0008181, dtype=float32)"
      ]
     },
     "execution_count": 158,
     "metadata": {},
     "output_type": "execute_result"
    }
   ],
   "source": [
    "split_rhat_state(state.pred_ws)"
   ]
  },
  {
   "cell_type": "code",
   "execution_count": 163,
   "metadata": {},
   "outputs": [
    {
     "data": {
      "text/html": [
       "<div>\n",
       "<style scoped>\n",
       "    .dataframe tbody tr th:only-of-type {\n",
       "        vertical-align: middle;\n",
       "    }\n",
       "\n",
       "    .dataframe tbody tr th {\n",
       "        vertical-align: top;\n",
       "    }\n",
       "\n",
       "    .dataframe thead th {\n",
       "        text-align: right;\n",
       "    }\n",
       "</style>\n",
       "<table border=\"1\" class=\"dataframe\">\n",
       "  <thead>\n",
       "    <tr style=\"text-align: right;\">\n",
       "      <th></th>\n",
       "      <th>mcse_mean</th>\n",
       "      <th>mcse_sd</th>\n",
       "      <th>ess_bulk</th>\n",
       "      <th>ess_tail</th>\n",
       "      <th>r_hat</th>\n",
       "    </tr>\n",
       "  </thead>\n",
       "  <tbody>\n",
       "    <tr>\n",
       "      <th>beta[0]</th>\n",
       "      <td>0.005</td>\n",
       "      <td>0.004</td>\n",
       "      <td>725.0</td>\n",
       "      <td>530.0</td>\n",
       "      <td>1.0</td>\n",
       "    </tr>\n",
       "    <tr>\n",
       "      <th>beta[1]</th>\n",
       "      <td>0.005</td>\n",
       "      <td>0.003</td>\n",
       "      <td>870.0</td>\n",
       "      <td>376.0</td>\n",
       "      <td>1.0</td>\n",
       "    </tr>\n",
       "    <tr>\n",
       "      <th>beta[2]</th>\n",
       "      <td>0.005</td>\n",
       "      <td>0.004</td>\n",
       "      <td>557.0</td>\n",
       "      <td>393.0</td>\n",
       "      <td>1.0</td>\n",
       "    </tr>\n",
       "    <tr>\n",
       "      <th>beta[3]</th>\n",
       "      <td>0.004</td>\n",
       "      <td>0.003</td>\n",
       "      <td>1210.0</td>\n",
       "      <td>497.0</td>\n",
       "      <td>1.0</td>\n",
       "    </tr>\n",
       "    <tr>\n",
       "      <th>sigsq</th>\n",
       "      <td>0.006</td>\n",
       "      <td>0.004</td>\n",
       "      <td>764.0</td>\n",
       "      <td>388.0</td>\n",
       "      <td>1.0</td>\n",
       "    </tr>\n",
       "  </tbody>\n",
       "</table>\n",
       "</div>"
      ],
      "text/plain": [
       "         mcse_mean  mcse_sd  ess_bulk  ess_tail  r_hat\n",
       "beta[0]      0.005    0.004     725.0     530.0    1.0\n",
       "beta[1]      0.005    0.003     870.0     376.0    1.0\n",
       "beta[2]      0.005    0.004     557.0     393.0    1.0\n",
       "beta[3]      0.004    0.003    1210.0     497.0    1.0\n",
       "sigsq        0.006    0.004     764.0     388.0    1.0"
      ]
     },
     "execution_count": 163,
     "metadata": {},
     "output_type": "execute_result"
    }
   ],
   "source": [
    "az.summary(trace_az, kind='diagnostics')"
   ]
  }
 ],
 "metadata": {
  "kernelspec": {
   "display_name": ".venv",
   "language": "python",
   "name": "python3"
  },
  "language_info": {
   "codemirror_mode": {
    "name": "ipython",
    "version": 3
   },
   "file_extension": ".py",
   "mimetype": "text/x-python",
   "name": "python",
   "nbconvert_exporter": "python",
   "pygments_lexer": "ipython3",
   "version": "3.10.6"
  },
  "orig_nbformat": 4,
  "vscode": {
   "interpreter": {
    "hash": "7b244e6cf922c9b0621775d312a136f9c0e093f5a4d6569bbfcf3ecc99e4276f"
   }
  }
 },
 "nbformat": 4,
 "nbformat_minor": 2
}
