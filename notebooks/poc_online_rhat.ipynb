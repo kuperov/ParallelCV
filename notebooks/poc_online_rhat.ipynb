{
 "cells": [
  {
   "attachments": {},
   "cell_type": "markdown",
   "metadata": {},
   "source": [
    "# Proof of concept - online rhat\n",
    "\n",
    "This proof of concept computes split rhat for multichain inference, for a single posterior using Nuts/Blackjax.\n",
    "\n",
    "The model is a simple Gaussian linear regression. Rhat calcs are validated against Arviz."
   ]
  },
  {
   "cell_type": "code",
   "execution_count": 506,
   "metadata": {},
   "outputs": [],
   "source": [
    "import blackjax\n",
    "import jax\n",
    "import chex\n",
    "import jax.numpy as jnp\n",
    "import arviz as az\n",
    "from tensorflow_probability.substrates import jax as tfp\n",
    "from collections import namedtuple\n",
    "from blackjax.diagnostics import potential_scale_reduction\n",
    "import matplotlib.pyplot as plt\n",
    "from typing import NamedTuple\n",
    "from jax.tree_util import tree_map, tree_structure\n",
    "import pandas as pd\n",
    "\n",
    "tfd = tfp.distributions\n",
    "tfb = tfp.bijectors\n",
    "tfpk = tfp.math.psd_kernels"
   ]
  },
  {
   "attachments": {},
   "cell_type": "markdown",
   "metadata": {},
   "source": [
    "ADT for the welford algorithm that tracks mean, absolute mean deviation, and variance for each chain variable of interest. This type will end up being the leaf of a pytree structured like the parameter."
   ]
  },
  {
   "cell_type": "code",
   "execution_count": 507,
   "metadata": {},
   "outputs": [],
   "source": [
    "class WelfordState(NamedTuple):\n",
    "    K: chex.Array  # central estimate of data\n",
    "    Ex: chex.Array  # sum of deviations from K\n",
    "    Eax: chex.Array  # sum of absolute deviations from K\n",
    "    Ex2: chex.Array  # sum of squared deviations from K\n",
    "    n: chex.Array  # number of data points\n",
    "\n",
    "\n",
    "def welford_init(K: chex.Array) -> WelfordState:\n",
    "  \"\"\"Initialize new welford algorithm state.\n",
    "  \n",
    "  Args:\n",
    "    K: estimated mean value of data. Same shape as data.\n",
    "  \"\"\"\n",
    "  return WelfordState(K=K*1., Ex=K*0., Eax=K*0., Ex2=K*0., n=K*0)\n",
    "\n",
    "def welford_add(x: chex.Array, state: WelfordState) -> WelfordState:\n",
    "  return WelfordState(\n",
    "    K=state.K,\n",
    "    Ex=state.Ex + x - state.K,\n",
    "    Eax=state.Eax + jnp.abs(x - state.K),\n",
    "    Ex2=state.Ex2 + (x - state.K)**2,\n",
    "    n=state.n + 1)\n",
    "\n",
    "def welford_mean(state: WelfordState):\n",
    "  return state.K + state.Ex / state.n\n",
    "\n",
    "def welford_mad(state: WelfordState):\n",
    "  return state.Eax / state.n\n",
    "\n",
    "def welford_var(state: WelfordState):\n",
    "  return (state.Ex2 - state.Ex**2 / state.n) / (state.n - 1)"
   ]
  },
  {
   "cell_type": "code",
   "execution_count": 508,
   "metadata": {},
   "outputs": [],
   "source": [
    "class Theta(NamedTuple):\n",
    "    beta: chex.Array\n",
    "    sigsq: chex.Array"
   ]
  },
  {
   "cell_type": "code",
   "execution_count": 509,
   "metadata": {},
   "outputs": [],
   "source": [
    "def split_rhat(means: chex.Array, vars: chex.Array, n: int) -> float:\n",
    "    \"\"\"Compute a single split Rhat from summary statistics of split chains.\n",
    "\n",
    "    Args:\n",
    "        means: means of split chains\n",
    "        vars:  variances of split chains\n",
    "        n:     number of draws per split chain (ie half draws in an original chain)\n",
    "    \"\"\"\n",
    "    W = jnp.mean(vars, axis=0)\n",
    "    m = len(means)  # number of split chains\n",
    "    B = n*jnp.var(means, ddof=1, axis=0)\n",
    "    varplus = (n-1)/n*W + B/n\n",
    "    Rhat = jnp.sqrt(varplus/W)\n",
    "    return Rhat\n",
    "\n",
    "def split_rhat_welford(ws: WelfordState) -> float:\n",
    "    \"\"\"Compute split Rhat from Welford state of split chains.\n",
    "\n",
    "    Args:\n",
    "        ws: Welford state of split chains\n",
    "    \n",
    "    Returns:\n",
    "        split Rhat: array of split Rhats\n",
    "    \"\"\"\n",
    "    means = jax.vmap(welford_mean)(ws)\n",
    "    vars = jax.vmap(welford_var)(ws)\n",
    "    n = ws.n[0]\n",
    "    return split_rhat(means, vars, n)\n",
    "\n",
    "def folded_split_rhat_welford(ws: WelfordState) -> float:\n",
    "    \"\"\"Compute folded split Rhat from Welford state of split chains.\n",
    "\n",
    "    Args:\n",
    "        ws: Welford state of split chains\n",
    "    \n",
    "    Returns:\n",
    "        folded split Rhat: array of folded split Rhats\n",
    "    \"\"\"\n",
    "    mads = jax.vmap(welford_mad)(ws)\n",
    "    vars = jax.vmap(welford_var)(ws)\n",
    "    n = ws.n[0]\n",
    "    return split_rhat(mads, vars, n)\n",
    "\n",
    "def rhat(welford_tree):\n",
    "    \"\"\"Compute split Rhat and folded split Rhat from welford states of split chains.\n",
    "    \n",
    "    Args:\n",
    "        welford_tree: pytree of Welford states for split chains\n",
    "    \n",
    "    Returns:\n",
    "        split Rhat: pytree pytree of split Rhats\n",
    "        folded split Rhat: pytree of folded split Rhats\n",
    "    \"\"\"\n",
    "    # first two axes are (chain #, half #), which we combine to a single dimension\n",
    "    com_chains = tree_map(lambda x: jnp.reshape(x, (-1, *x.shape[2:])), welford_tree)\n",
    "    sr = tree_map(split_rhat_welford, com_chains, is_leaf=lambda x: isinstance(x, WelfordState))\n",
    "    fsr = tree_map(folded_split_rhat_welford, com_chains, is_leaf=lambda x: isinstance(x, WelfordState))\n",
    "    return sr, fsr"
   ]
  },
  {
   "cell_type": "code",
   "execution_count": 510,
   "metadata": {},
   "outputs": [],
   "source": [
    "class ExtendedState(NamedTuple):\n",
    "    state: blackjax.mcmc.hmc.HMCState  # current HMC state\n",
    "    rng_key: chex.Array  # current random seed\n",
    "    pred_ws: WelfordState  # accumulator for predictive\n",
    "    param_ws: WelfordState  # accumulator for parameters\n",
    "    divergences: chex.Array  # divergence counts (int array)\n",
    "\n",
    "    def __repr__(self) -> str:\n",
    "        rhats = [(n, rhat(v)) for n, v in zip(self.param_ws._fields, self.param_ws)]\n",
    "        predrh, predsrh = rhat(self.pred_ws)\n",
    "        status = [\n",
    "            f'       Summary: {int(jnp.sum(self.pred_ws.n[0,:]))} draws * {self.state.position[0].shape[0]} chains',\n",
    "        ]\n",
    "        param = [f'{n: >9} Rhat: {v} ({desc})' for n, (rh, frh) in rhats for v, desc in [(rh, 'regular'), (frh, 'tail')]]\n",
    "        lines = status + param + [\n",
    "            f\"    pred. Rhat: {predrh:.4f}  tail: {predsrh:.4f}\",\n",
    "            f\"   divergences: {int(jnp.sum(self.divergences))}\"\n",
    "        ]\n",
    "        return '\\n'.join(lines)\n"
   ]
  },
  {
   "attachments": {},
   "cell_type": "markdown",
   "metadata": {},
   "source": [
    "## Model definition"
   ]
  },
  {
   "cell_type": "code",
   "execution_count": 511,
   "metadata": {},
   "outputs": [],
   "source": [
    "y_key, X_key = jax.random.split(jax.random.PRNGKey(0))\n",
    "N = 100\n",
    "beta0 = jnp.array([1.0, 2.0, 3.0, 4.0])\n",
    "p = len(beta0)\n",
    "sigsq0 = jnp.array(2.0)\n",
    "X = tfd.Normal(loc=0, scale=1).sample(sample_shape=(N, p), seed=X_key)\n",
    "y = X@beta0 + tfd.Normal(loc=0, scale=jnp.sqrt(sigsq0)).sample(sample_shape=(N,), seed=y_key)"
   ]
  },
  {
   "cell_type": "code",
   "execution_count": 512,
   "metadata": {},
   "outputs": [],
   "source": [
    "# use exp to transform sigsq to unconstrained space\n",
    "sigsq_t = tfb.Exp()\n",
    "\n",
    "beta_prior = tfd.MultivariateNormalDiag(loc=jnp.zeros(p), scale_diag=jnp.ones(p))\n",
    "sigsq_prior = tfd.Gamma(concentration=1.0, rate=1.0)\n",
    "\n",
    "def logprob_fn(theta: Theta):\n",
    "  sigsq = sigsq_t.forward(theta.sigsq)\n",
    "  sigsq_ldj = sigsq_t.forward_log_det_jacobian(theta.sigsq)\n",
    "  lprior = beta_prior.log_prob(theta.beta) + sigsq_prior.log_prob(theta.sigsq)\n",
    "  lhood = tfd.Normal(loc=X@theta.beta, scale=jnp.sqrt(sigsq)).log_prob(y).sum()\n",
    "  return lprior + lhood\n",
    "\n",
    "# predictive density log p(y|theta)\n",
    "def log_p(theta):\n",
    "    e = X @ theta.beta - y\n",
    "    return -0.5 * (\n",
    "        jnp.log(2 * jnp.pi)\n",
    "        + jnp.log(theta.sigsq)\n",
    "        + jnp.dot(e, e)/theta.sigsq\n",
    "    )\n"
   ]
  },
  {
   "cell_type": "code",
   "execution_count": 513,
   "metadata": {},
   "outputs": [],
   "source": [
    "num_samples = 100\n",
    "warmup_iter = 500\n",
    "num_chains = 3\n",
    "seed = 123\n",
    "warmup_key, sampling_key, init_key, subs_key = jax.random.split(jax.random.PRNGKey(seed), 4)\n",
    "\n",
    "# random initialization in the constrained parameter space\n",
    "def make_initial_pos(key, pid):\n",
    "  k1, k2 = jax.random.split(key)\n",
    "  theta = Theta(\n",
    "    beta=jax.random.normal(key=k1, shape=(p,)),\n",
    "    sigsq=jax.random.normal(key=k2))\n",
    "  return theta"
   ]
  },
  {
   "attachments": {},
   "cell_type": "markdown",
   "metadata": {},
   "source": [
    "## Inference"
   ]
  },
  {
   "cell_type": "code",
   "execution_count": 514,
   "metadata": {},
   "outputs": [
    {
     "name": "stdout",
     "output_type": "stream",
     "text": [
      "Running window adaptation\n"
     ]
    },
    {
     "data": {
      "text/html": [
       "\n",
       "<style>\n",
       "    /* Turns off some styling */\n",
       "    progress {\n",
       "        /* gets rid of default border in Firefox and Opera. */\n",
       "        border: none;\n",
       "        /* Needs to be in here for Safari polyfill so background images work as expected. */\n",
       "        background-size: auto;\n",
       "    }\n",
       "    progress:not([value]), progress:not([value])::-webkit-progress-bar {\n",
       "        background: repeating-linear-gradient(45deg, #7e7e7e, #7e7e7e 10px, #5c5c5c 10px, #5c5c5c 20px);\n",
       "    }\n",
       "    .progress-bar-interrupted, .progress-bar-interrupted::-webkit-progress-bar {\n",
       "        background: #F44336;\n",
       "    }\n",
       "</style>\n"
      ],
      "text/plain": [
       "<IPython.core.display.HTML object>"
      ]
     },
     "metadata": {},
     "output_type": "display_data"
    },
    {
     "data": {
      "text/html": [
       "\n",
       "    <div>\n",
       "      <progress value='500' class='' max='500' style='width:300px; height:20px; vertical-align: middle;'></progress>\n",
       "      100.00% [500/500 00:00&lt;?]\n",
       "    </div>\n",
       "    "
      ],
      "text/plain": [
       "<IPython.core.display.HTML object>"
      ]
     },
     "metadata": {},
     "output_type": "display_data"
    },
    {
     "name": "stdout",
     "output_type": "stream",
     "text": [
      "\n",
      "CPU times: user 3.56 s, sys: 34.2 ms, total: 3.59 s\n",
      "Wall time: 3.55 s\n"
     ]
    }
   ],
   "source": [
    "%%time\n",
    "\n",
    "warmup = blackjax.window_adaptation(blackjax.nuts, logprob_fn, num_steps=warmup_iter, progress_bar=True)\n",
    "final_warmup_state, kernel, info = warmup.run(warmup_key, make_initial_pos(init_key, 0))"
   ]
  },
  {
   "cell_type": "code",
   "execution_count": 515,
   "metadata": {},
   "outputs": [],
   "source": [
    "# stack arrays in pytrees\n",
    "def tree_stack(trees):\n",
    "    return tree_map(lambda *xs: jnp.stack(xs, axis=0), *trees)\n",
    "\n",
    "# stack arrays in pytrees\n",
    "def tree_concat(trees):\n",
    "    return tree_map(lambda *xs: jnp.concatenate(xs, axis=0), *trees)"
   ]
  },
  {
   "cell_type": "code",
   "execution_count": 516,
   "metadata": {},
   "outputs": [],
   "source": [
    "# sample initial positions from second half of warmup trajectory\n",
    "idxs = jax.random.choice(subs_key, a=jnp.arange(warmup_iter//2, warmup_iter), shape=(num_chains,))\n",
    "initial_positions = Theta(\n",
    "    beta = info[0].position.beta[idxs,],\n",
    "    sigsq = info[0].position.sigsq[idxs]\n",
    ")\n",
    "centers = tree_map(lambda x: jnp.median(x[x.shape[0]//2:,...], axis=0), info[0].position)\n",
    "initial_states = jax.vmap(lambda p: blackjax.nuts.init(p, logprob_fn))(initial_positions)"
   ]
  },
  {
   "cell_type": "code",
   "execution_count": 517,
   "metadata": {},
   "outputs": [
    {
     "data": {
      "text/plain": [
       "Theta(beta=(4,), sigsq=())"
      ]
     },
     "execution_count": 517,
     "metadata": {},
     "output_type": "execute_result"
    }
   ],
   "source": [
    "tree_map(lambda x: x.shape, centers)"
   ]
  },
  {
   "cell_type": "code",
   "execution_count": 518,
   "metadata": {},
   "outputs": [
    {
     "data": {
      "text/plain": [
       "[Array(-193.98865, dtype=float32),\n",
       " Array([-193.38307, -191.24486, -195.57587], dtype=float32)]"
      ]
     },
     "execution_count": 518,
     "metadata": {},
     "output_type": "execute_result"
    }
   ],
   "source": [
    "# sense check logprob_fn\n",
    "[logprob_fn(final_warmup_state.position), jax.vmap(logprob_fn)(initial_positions)]"
   ]
  },
  {
   "attachments": {},
   "cell_type": "markdown",
   "metadata": {},
   "source": [
    "Seems pretty safe to sample from second half of warmup trace:"
   ]
  },
  {
   "cell_type": "code",
   "execution_count": 519,
   "metadata": {},
   "outputs": [
    {
     "data": {
      "image/png": "[encoded data removed]",
      "text/plain": [
       "<Figure size 1000x260 with 2 Axes>"
      ]
     },
     "metadata": {},
     "output_type": "display_data"
    }
   ],
   "source": [
    "fig, axes = plt.subplots(1,2, figsize=(10,2.6))\n",
    "for i, (ax, n) in enumerate(zip(axes, ['beta', 'sigma^2'])):\n",
    "    ax.set_xlabel('iteration')\n",
    "    ax.set_title(f'$\\\\{n}$ warmup')\n",
    "    ax.plot(info[0].position[i])\n",
    "    ax.axvline(warmup_iter//2, color='k', linestyle='--')\n",
    "    ax.set_xlim(0, info[0].position.beta.shape[0])\n",
    "    if centers[i].ndim > 0:\n",
    "        for c in centers[i]:\n",
    "            ax.axhline(c, color='gray', linestyle=':')\n",
    "    else:\n",
    "        ax.axhline(centers[i], color='gray', linestyle=':')\n",
    "fig.suptitle('Nuts warmup trajectories', fontsize=14)\n",
    "fig.tight_layout()"
   ]
  },
  {
   "attachments": {},
   "cell_type": "markdown",
   "metadata": {},
   "source": [
    "Named tuple for holding MCMC results, split into 2 half-chains"
   ]
  },
  {
   "cell_type": "code",
   "execution_count": 520,
   "metadata": {},
   "outputs": [],
   "source": [
    "# single chain inference loop we will run in parallel using vmap\n",
    "def inference_loop(rng_key, kernel, initial_state, num_samples, log_p, centers):\n",
    "    def one_mcmc_step(ext_state, idx):\n",
    "        i_key, carry_key = jax.random.split(ext_state.rng_key)\n",
    "        chain_state, chain_info = kernel(i_key, ext_state.state)\n",
    "        elpd_contrib = log_p(chain_state.position)\n",
    "        div_count = ext_state.divergences + chain_info.is_divergent.astype(jnp.float32)\n",
    "        carry_pred_ws = welford_add(elpd_contrib, ext_state.pred_ws)\n",
    "        carry_param_ws = tree_map(welford_add, chain_state.position, ext_state.param_ws)\n",
    "        carry_state = ExtendedState(chain_state, carry_key, carry_pred_ws, carry_param_ws, div_count)\n",
    "        return carry_state, chain_state  # we'll eventually drop chain state and return None instead\n",
    "    # first half of chain\n",
    "    initial_state_1h = ExtendedState(\n",
    "        initial_state,\n",
    "        rng_key,\n",
    "        pred_ws=welford_init(log_p(centers)),\n",
    "        param_ws=tree_map(welford_init, centers),\n",
    "        divergences=0)\n",
    "    #carry_state_1h = jax.lax.fori_loop(0, num_samples//2, one_step, initial_state_1h)\n",
    "    carry_state_1h, states_1h = jax.lax.scan(one_mcmc_step, initial_state_1h, jnp.arange(0, num_samples//2))\n",
    "    # second half of chain - continue at same point but accumulate into new welford states\n",
    "    initial_state_2h = ExtendedState(\n",
    "        carry_state_1h.state,\n",
    "        carry_state_1h.rng_key,\n",
    "        pred_ws=welford_init(log_p(centers)),\n",
    "        param_ws=tree_map(welford_init, centers),\n",
    "        divergences=0)\n",
    "    #carry_state_2h = jax.lax.fori_loop(0, num_samples//2, one_step, carry_state_1h)\n",
    "    carry_state_2h, states_2h = jax.lax.scan(one_mcmc_step, initial_state_2h, jnp.arange(num_samples//2, num_samples))\n",
    "    return tree_stack((carry_state_1h, carry_state_2h,)), tree_concat((states_1h, states_2h,))"
   ]
  },
  {
   "cell_type": "code",
   "execution_count": 521,
   "metadata": {},
   "outputs": [],
   "source": [
    "def to_arviz(theta):\n",
    "    theta_dict = dict(zip(theta.position._fields, theta.position))\n",
    "    return az.convert_to_inference_data(theta_dict)"
   ]
  },
  {
   "cell_type": "code",
   "execution_count": 522,
   "metadata": {},
   "outputs": [
    {
     "name": "stdout",
     "output_type": "stream",
     "text": [
      "CPU times: user 6.36 s, sys: 4.52 ms, total: 6.37 s\n",
      "Wall time: 6.34 s\n"
     ]
    },
    {
     "data": {
      "text/plain": [
       "       Summary: 100 draws * 3 chains\n",
       "     beta Rhat: [1.0000408 0.9975882 1.0194485 1.0033971] (regular)\n",
       "     beta Rhat: [0.9956104  0.99485505 0.99697775 0.9959548 ] (tail)\n",
       "    sigsq Rhat: 0.9945297241210938 (regular)\n",
       "    sigsq Rhat: 0.9930577278137207 (tail)\n",
       "    pred. Rhat: 0.9982  tail: 0.9961\n",
       "   divergences: 0"
      ]
     },
     "execution_count": 522,
     "metadata": {},
     "output_type": "execute_result"
    }
   ],
   "source": [
    "%%time\n",
    "\n",
    "sampling_keys = jax.random.split(sampling_key, num_chains)\n",
    "\n",
    "state, trace = jax.vmap(inference_loop, in_axes=(0, None, 0, None, None, None))(sampling_keys, kernel, initial_states, num_samples, log_p, centers)\n",
    "state"
   ]
  },
  {
   "attachments": {},
   "cell_type": "markdown",
   "metadata": {},
   "source": [
    "## Results"
   ]
  },
  {
   "cell_type": "code",
   "execution_count": 523,
   "metadata": {},
   "outputs": [
    {
     "data": {
      "text/html": [
       "<div>\n",
       "<style scoped>\n",
       "    .dataframe tbody tr th:only-of-type {\n",
       "        vertical-align: middle;\n",
       "    }\n",
       "\n",
       "    .dataframe tbody tr th {\n",
       "        vertical-align: top;\n",
       "    }\n",
       "\n",
       "    .dataframe thead th {\n",
       "        text-align: right;\n",
       "    }\n",
       "</style>\n",
       "<table border=\"1\" class=\"dataframe\">\n",
       "  <thead>\n",
       "    <tr style=\"text-align: right;\">\n",
       "      <th></th>\n",
       "      <th>mean</th>\n",
       "      <th>sd</th>\n",
       "      <th>hdi_3%</th>\n",
       "      <th>hdi_97%</th>\n",
       "      <th>mcse_mean</th>\n",
       "      <th>mcse_sd</th>\n",
       "      <th>ess_bulk</th>\n",
       "      <th>ess_tail</th>\n",
       "      <th>r_hat</th>\n",
       "    </tr>\n",
       "  </thead>\n",
       "  <tbody>\n",
       "    <tr>\n",
       "      <th>beta[0]</th>\n",
       "      <td>0.767</td>\n",
       "      <td>0.138</td>\n",
       "      <td>0.509</td>\n",
       "      <td>1.019</td>\n",
       "      <td>0.007</td>\n",
       "      <td>0.005</td>\n",
       "      <td>418.0</td>\n",
       "      <td>259.0</td>\n",
       "      <td>1.01</td>\n",
       "    </tr>\n",
       "    <tr>\n",
       "      <th>beta[1]</th>\n",
       "      <td>1.779</td>\n",
       "      <td>0.144</td>\n",
       "      <td>1.490</td>\n",
       "      <td>2.040</td>\n",
       "      <td>0.007</td>\n",
       "      <td>0.005</td>\n",
       "      <td>421.0</td>\n",
       "      <td>257.0</td>\n",
       "      <td>1.00</td>\n",
       "    </tr>\n",
       "    <tr>\n",
       "      <th>beta[2]</th>\n",
       "      <td>2.792</td>\n",
       "      <td>0.121</td>\n",
       "      <td>2.592</td>\n",
       "      <td>3.025</td>\n",
       "      <td>0.008</td>\n",
       "      <td>0.006</td>\n",
       "      <td>242.0</td>\n",
       "      <td>196.0</td>\n",
       "      <td>1.02</td>\n",
       "    </tr>\n",
       "    <tr>\n",
       "      <th>beta[3]</th>\n",
       "      <td>3.798</td>\n",
       "      <td>0.130</td>\n",
       "      <td>3.532</td>\n",
       "      <td>4.022</td>\n",
       "      <td>0.006</td>\n",
       "      <td>0.004</td>\n",
       "      <td>450.0</td>\n",
       "      <td>236.0</td>\n",
       "      <td>1.00</td>\n",
       "    </tr>\n",
       "    <tr>\n",
       "      <th>sigsq</th>\n",
       "      <td>0.629</td>\n",
       "      <td>0.158</td>\n",
       "      <td>0.379</td>\n",
       "      <td>0.944</td>\n",
       "      <td>0.008</td>\n",
       "      <td>0.006</td>\n",
       "      <td>388.0</td>\n",
       "      <td>176.0</td>\n",
       "      <td>1.00</td>\n",
       "    </tr>\n",
       "  </tbody>\n",
       "</table>\n",
       "</div>"
      ],
      "text/plain": [
       "          mean     sd  hdi_3%  hdi_97%  mcse_mean  mcse_sd  ess_bulk  \\\n",
       "beta[0]  0.767  0.138   0.509    1.019      0.007    0.005     418.0   \n",
       "beta[1]  1.779  0.144   1.490    2.040      0.007    0.005     421.0   \n",
       "beta[2]  2.792  0.121   2.592    3.025      0.008    0.006     242.0   \n",
       "beta[3]  3.798  0.130   3.532    4.022      0.006    0.004     450.0   \n",
       "sigsq    0.629  0.158   0.379    0.944      0.008    0.006     388.0   \n",
       "\n",
       "         ess_tail  r_hat  \n",
       "beta[0]     259.0   1.01  \n",
       "beta[1]     257.0   1.00  \n",
       "beta[2]     196.0   1.02  \n",
       "beta[3]     236.0   1.00  \n",
       "sigsq       176.0   1.00  "
      ]
     },
     "execution_count": 523,
     "metadata": {},
     "output_type": "execute_result"
    }
   ],
   "source": [
    "trace_az = to_arviz(trace)\n",
    "az.summary(trace_az)"
   ]
  },
  {
   "cell_type": "code",
   "execution_count": 524,
   "metadata": {},
   "outputs": [
    {
     "data": {
      "image/png": "[encoded data removed]",
      "text/plain": [
       "<Figure size 1200x200 with 5 Axes>"
      ]
     },
     "metadata": {},
     "output_type": "display_data"
    }
   ],
   "source": [
    "az.plot_density(trace_az, var_names=['beta', 'sigsq'], figsize=(12,2), shade=0.2, grid=(1,5))\n",
    "fig.tight_layout()"
   ]
  },
  {
   "attachments": {},
   "cell_type": "markdown",
   "metadata": {},
   "source": [
    "Compute split Rhat for the parameter"
   ]
  },
  {
   "cell_type": "code",
   "execution_count": 525,
   "metadata": {},
   "outputs": [
    {
     "name": "stdout",
     "output_type": "stream",
     "text": [
      "Regular split rhats\n",
      "Theta(beta=Array([1.0000408, 0.9975882, 1.0194485, 1.0033971], dtype=float32), sigsq=Array(0.9945297, dtype=float32))\n",
      "Folded split rhats\n",
      "Theta(beta=Array([0.9956104 , 0.99485505, 0.99697775, 0.9959548 ], dtype=float32), sigsq=Array(0.9930577, dtype=float32))\n"
     ]
    }
   ],
   "source": [
    "s_rhats, fs_rhats = rhat(state.param_ws)\n",
    "print(\"Regular split rhats\")\n",
    "print(s_rhats)\n",
    "print(\"Folded split rhats\")\n",
    "print(fs_rhats)"
   ]
  },
  {
   "attachments": {},
   "cell_type": "markdown",
   "metadata": {},
   "source": [
    "And compare it with Arviz"
   ]
  },
  {
   "cell_type": "code",
   "execution_count": 526,
   "metadata": {},
   "outputs": [
    {
     "data": {
      "text/html": [
       "<div>\n",
       "<style scoped>\n",
       "    .dataframe tbody tr th:only-of-type {\n",
       "        vertical-align: middle;\n",
       "    }\n",
       "\n",
       "    .dataframe tbody tr th {\n",
       "        vertical-align: top;\n",
       "    }\n",
       "\n",
       "    .dataframe thead th {\n",
       "        text-align: right;\n",
       "    }\n",
       "</style>\n",
       "<table border=\"1\" class=\"dataframe\">\n",
       "  <thead>\n",
       "    <tr style=\"text-align: right;\">\n",
       "      <th></th>\n",
       "      <th>beta</th>\n",
       "      <th>sigsq</th>\n",
       "    </tr>\n",
       "    <tr>\n",
       "      <th>beta_dim_0</th>\n",
       "      <th></th>\n",
       "      <th></th>\n",
       "    </tr>\n",
       "  </thead>\n",
       "  <tbody>\n",
       "    <tr>\n",
       "      <th>0</th>\n",
       "      <td>1.000041</td>\n",
       "      <td>0.99453</td>\n",
       "    </tr>\n",
       "    <tr>\n",
       "      <th>1</th>\n",
       "      <td>0.997588</td>\n",
       "      <td>0.99453</td>\n",
       "    </tr>\n",
       "    <tr>\n",
       "      <th>2</th>\n",
       "      <td>1.019448</td>\n",
       "      <td>0.99453</td>\n",
       "    </tr>\n",
       "    <tr>\n",
       "      <th>3</th>\n",
       "      <td>1.003397</td>\n",
       "      <td>0.99453</td>\n",
       "    </tr>\n",
       "  </tbody>\n",
       "</table>\n",
       "</div>"
      ],
      "text/plain": [
       "                beta    sigsq\n",
       "beta_dim_0                   \n",
       "0           1.000041  0.99453\n",
       "1           0.997588  0.99453\n",
       "2           1.019448  0.99453\n",
       "3           1.003397  0.99453"
      ]
     },
     "execution_count": 526,
     "metadata": {},
     "output_type": "execute_result"
    }
   ],
   "source": [
    "rhats_df_az = az.rhat(trace_az, method='split').to_dataframe()\n",
    "# verify they match\n",
    "assert jnp.linalg.norm(rhats_df_az.beta.to_numpy() - s_rhats.beta) < 1e-6\n",
    "assert jnp.abs(rhats_df_az.sigsq.to_numpy()[0] - s_rhats.sigsq) < 1e-6\n",
    "rhats_df_az"
   ]
  },
  {
   "attachments": {},
   "cell_type": "markdown",
   "metadata": {},
   "source": [
    "Now compute Rhat for predictive quantity (in this case log density)"
   ]
  },
  {
   "cell_type": "code",
   "execution_count": 527,
   "metadata": {},
   "outputs": [
    {
     "data": {
      "text/plain": [
       "(Array(0.99815935, dtype=float32), Array(0.9961415, dtype=float32))"
      ]
     },
     "execution_count": 527,
     "metadata": {},
     "output_type": "execute_result"
    }
   ],
   "source": [
    "rhat(state.pred_ws)"
   ]
  }
 ],
 "metadata": {
  "kernelspec": {
   "display_name": ".venv",
   "language": "python",
   "name": "python3"
  },
  "language_info": {
   "codemirror_mode": {
    "name": "ipython",
    "version": 3
   },
   "file_extension": ".py",
   "mimetype": "text/x-python",
   "name": "python",
   "nbconvert_exporter": "python",
   "pygments_lexer": "ipython3",
   "version": "3.10.6"
  },
  "orig_nbformat": 4,
  "vscode": {
   "interpreter": {
    "hash": "7b244e6cf922c9b0621775d312a136f9c0e093f5a4d6569bbfcf3ecc99e4276f"
   }
  }
 },
 "nbformat": 4,
 "nbformat_minor": 2
}
