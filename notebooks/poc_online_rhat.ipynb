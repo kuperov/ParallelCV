{
 "cells": [
  {
   "attachments": {},
   "cell_type": "markdown",
   "metadata": {},
   "source": [
    "# Proof of concept - online rhat"
   ]
  },
  {
   "cell_type": "code",
   "execution_count": 89,
   "metadata": {},
   "outputs": [],
   "source": [
    "import blackjax\n",
    "import jax\n",
    "import jax.numpy as jnp\n",
    "from tensorflow_probability.substrates import jax as tfp\n",
    "from collections import namedtuple\n",
    "from blackjax.diagnostics import potential_scale_reduction\n",
    "import matplotlib.pyplot as plt\n",
    "tfd = tfp.distributions\n",
    "tfb = tfp.bijectors\n",
    "tfpk = tfp.math.psd_kernels"
   ]
  },
  {
   "cell_type": "code",
   "execution_count": 90,
   "metadata": {},
   "outputs": [],
   "source": [
    "Theta = namedtuple('Theta', ['beta', 'sigsq', 'post_id'])"
   ]
  },
  {
   "cell_type": "code",
   "execution_count": 91,
   "metadata": {},
   "outputs": [],
   "source": [
    "WelfordState = namedtuple(\"WelfordState\", [\"K\", \"Ex\", \"Ex2\", \"n\"])\n",
    "\n",
    "def welford_init(K) -> WelfordState:\n",
    "  return WelfordState(K, 0., 0., 0)\n",
    "\n",
    "def welford_add(state: WelfordState, x: float) -> WelfordState:\n",
    "  return WelfordState(state.K, state.Ex + x - state.K, state.Ex2 + (x - state.K)**2, state.n + 1)\n",
    "\n",
    "def welford_mean(state: WelfordState) -> WelfordState:\n",
    "  return state.K + state.Ex / state.n\n",
    "\n",
    "def welford_var(state: WelfordState) -> WelfordState:\n",
    "  return (state.Ex2 - state.Ex**2 / state.n) / (state.n - 1)"
   ]
  },
  {
   "cell_type": "code",
   "execution_count": 92,
   "metadata": {},
   "outputs": [],
   "source": [
    "ExtendedState = namedtuple(\"ExtendedState\", ['state', 'rng_key', 'welford_state'])"
   ]
  },
  {
   "cell_type": "code",
   "execution_count": 93,
   "metadata": {},
   "outputs": [],
   "source": [
    "y_key, X_key = jax.random.split(jax.random.PRNGKey(0))\n",
    "N = 100\n",
    "beta0 = jnp.array([1.0, 2.0, 3.0, 4.0])\n",
    "p = len(beta0)\n",
    "sigsq0 = jnp.array(2.0)\n",
    "X = tfd.Normal(loc=0, scale=1).sample(sample_shape=(N, p), seed=X_key)\n",
    "y = X@beta0 + tfd.Normal(loc=0, scale=jnp.sqrt(sigsq0)).sample(sample_shape=(N,), seed=y_key)"
   ]
  },
  {
   "cell_type": "code",
   "execution_count": 94,
   "metadata": {},
   "outputs": [],
   "source": [
    "# use exp to transform sigsq to unconstrained space\n",
    "sigsq_t = tfb.Exp()\n",
    "\n",
    "beta_prior = tfd.MultivariateNormalDiag(loc=jnp.zeros(p), scale_diag=jnp.ones(p))\n",
    "sigsq_prior = tfd.Gamma(concentration=1.0, rate=1.0)\n",
    "\n",
    "def logprob_fn(theta: Theta):\n",
    "  sigsq = sigsq_t.forward(theta.sigsq)\n",
    "  sigsq_ldj = sigsq_t.forward_log_det_jacobian(theta.sigsq)\n",
    "  lprior = beta_prior.log_prob(theta.beta) + sigsq_prior.log_prob(theta.sigsq)\n",
    "  lhood = tfd.Normal(loc=X@theta.beta, scale=jnp.sqrt(sigsq)).log_prob(y).sum()\n",
    "  return lprior + lhood"
   ]
  },
  {
   "cell_type": "code",
   "execution_count": 95,
   "metadata": {},
   "outputs": [],
   "source": [
    "num_samples = 5000\n",
    "warmup_iter = 500\n",
    "num_chains = 30\n",
    "seed = 123\n",
    "warmup_key, sampling_key, init_key, subs_key = jax.random.split(jax.random.PRNGKey(seed), 4)\n",
    "\n",
    "# random initialization in the constrained parameter space\n",
    "def make_initial_pos(key, pid):\n",
    "  k1, k2 = jax.random.split(key)\n",
    "  theta = Theta(\n",
    "    beta=jax.random.normal(key=k1, shape=(p,)),\n",
    "    sigsq=jax.random.normal(key=k2),\n",
    "    post_id=1.0*pid)\n",
    "  return theta"
   ]
  },
  {
   "cell_type": "code",
   "execution_count": 96,
   "metadata": {},
   "outputs": [
    {
     "name": "stdout",
     "output_type": "stream",
     "text": [
      "Running window adaptation\n"
     ]
    },
    {
     "data": {
      "text/html": [
       "\n",
       "<style>\n",
       "    /* Turns off some styling */\n",
       "    progress {\n",
       "        /* gets rid of default border in Firefox and Opera. */\n",
       "        border: none;\n",
       "        /* Needs to be in here for Safari polyfill so background images work as expected. */\n",
       "        background-size: auto;\n",
       "    }\n",
       "    progress:not([value]), progress:not([value])::-webkit-progress-bar {\n",
       "        background: repeating-linear-gradient(45deg, #7e7e7e, #7e7e7e 10px, #5c5c5c 10px, #5c5c5c 20px);\n",
       "    }\n",
       "    .progress-bar-interrupted, .progress-bar-interrupted::-webkit-progress-bar {\n",
       "        background: #F44336;\n",
       "    }\n",
       "</style>\n"
      ],
      "text/plain": [
       "<IPython.core.display.HTML object>"
      ]
     },
     "metadata": {},
     "output_type": "display_data"
    },
    {
     "data": {
      "text/html": [
       "\n",
       "    <div>\n",
       "      <progress value='500' class='' max='500' style='width:300px; height:20px; vertical-align: middle;'></progress>\n",
       "      100.00% [500/500 00:00&lt;?]\n",
       "    </div>\n",
       "    "
      ],
      "text/plain": [
       "<IPython.core.display.HTML object>"
      ]
     },
     "metadata": {},
     "output_type": "display_data"
    },
    {
     "name": "stdout",
     "output_type": "stream",
     "text": [
      "\n",
      "CPU times: user 3.34 s, sys: 16.7 ms, total: 3.35 s\n",
      "Wall time: 3.31 s\n"
     ]
    }
   ],
   "source": [
    "%%time\n",
    "\n",
    "warmup = blackjax.window_adaptation(blackjax.nuts, logprob_fn, num_steps=warmup_iter, progress_bar=True)\n",
    "final_warmup_state, kernel, info = warmup.run(warmup_key, make_initial_pos(init_key, 0))"
   ]
  },
  {
   "cell_type": "code",
   "execution_count": 97,
   "metadata": {},
   "outputs": [],
   "source": [
    "# sample initial positions from second half of warmup trajectory\n",
    "idxs = jax.random.choice(subs_key, a=jnp.arange(warmup_iter//2, warmup_iter), shape=(num_chains,))\n",
    "initial_positions = Theta(\n",
    "    beta = info[0].position.beta[idxs,],\n",
    "    sigsq = info[0].position.sigsq[idxs],\n",
    "    post_id = 1.0*jnp.arange(num_chains)\n",
    ")\n",
    "initial_states = jax.vmap(lambda p: blackjax.nuts.init(p, logprob_fn))(initial_positions)"
   ]
  },
  {
   "cell_type": "code",
   "execution_count": 98,
   "metadata": {},
   "outputs": [
    {
     "data": {
      "text/plain": [
       "[Array(-196.40106, dtype=float32),\n",
       " Array([-190.1692 , -190.74078, -190.4409 , -195.1058 , -191.95877,\n",
       "        -190.97505, -193.1166 , -191.03459, -191.5766 , -192.23311,\n",
       "        -193.05615, -190.55371, -191.18103, -191.08167, -192.1053 ,\n",
       "        -191.65535, -190.10484, -192.06477, -190.86653, -191.08656,\n",
       "        -191.75749, -191.2915 , -195.2927 , -193.90305, -196.45512,\n",
       "        -190.1032 , -194.0105 , -192.22366, -192.4809 , -190.97505],      dtype=float32)]"
      ]
     },
     "execution_count": 98,
     "metadata": {},
     "output_type": "execute_result"
    }
   ],
   "source": [
    "# sense check logprob_fn\n",
    "[logprob_fn(final_warmup_state.position), jax.vmap(logprob_fn)(initial_positions)]"
   ]
  },
  {
   "cell_type": "code",
   "execution_count": 99,
   "metadata": {},
   "outputs": [
    {
     "data": {
      "image/png": "[encoded data removed]",
      "text/plain": [
       "<Figure size 640x480 with 2 Axes>"
      ]
     },
     "metadata": {},
     "output_type": "display_data"
    }
   ],
   "source": [
    "plt.subplot(1,2,1)\n",
    "plt.plot(info[0].position.beta)\n",
    "plt.title('beta warmup')\n",
    "plt.subplot(1,2,2)\n",
    "plt.plot(info[0].position.sigsq)\n",
    "plt.title('sigsq warmup')\n",
    "plt.tight_layout()"
   ]
  },
  {
   "attachments": {},
   "cell_type": "markdown",
   "metadata": {},
   "source": [
    "Named tuple for holding MCMC results, split into 2 half-chains"
   ]
  },
  {
   "cell_type": "code",
   "execution_count": 100,
   "metadata": {},
   "outputs": [],
   "source": [
    "MCMCResults = namedtuple(\"MCMCResults\", ['state1h', 'state2h', 'trace1h', 'trace2h'])"
   ]
  },
  {
   "cell_type": "code",
   "execution_count": 101,
   "metadata": {},
   "outputs": [],
   "source": [
    "# single chain inference loop we will run in parallel using vmap\n",
    "def inference_loop(rng_key, kernel, initial_state, num_samples) -> MCMCResults:\n",
    "    def one_step(extended_state, idx):\n",
    "        i_key, carry_key = jax.random.split(extended_state.rng_key)\n",
    "        chain_state, _ = kernel(i_key, extended_state.state)\n",
    "        e = X @ chain_state.position.beta - y\n",
    "        elpd_contrib = -0.5 * (\n",
    "            jnp.log(2 * jnp.pi)\n",
    "            + jnp.log(chain_state.position.sigsq)\n",
    "            + jnp.dot(e, e)/chain_state.position.sigsq\n",
    "        )\n",
    "        carry_welford_state = welford_add(extended_state.welford_state, elpd_contrib)\n",
    "        carry_state = ExtendedState(chain_state, carry_key, carry_welford_state)\n",
    "        return carry_state, chain_state  # we'll eventually drop chain state and return None instead\n",
    "    # split the chain\n",
    "    initial_state_1h = ExtendedState(initial_state, rng_key, welford_init(0))\n",
    "    #carry_state_1h = jax.lax.fori_loop(0, num_samples//2, one_step, initial_state_1h)\n",
    "    carry_state_1h, states_1h = jax.lax.scan(one_step, initial_state_1h, jnp.arange(num_samples//2))\n",
    "    initial_state_2h = ExtendedState(initial_state_1h.state, initial_state_1h.rng_key, welford_init(0))\n",
    "    #carry_state_2h = jax.lax.fori_loop(0, num_samples//2, one_step, carry_state_1h)\n",
    "    carry_state_2h, states_2h = jax.lax.scan(one_step, carry_state_1h, jnp.arange(num_samples//2, num_samples))\n",
    "    return MCMCResults(carry_state_1h, carry_state_2h, states_1h, states_2h)"
   ]
  },
  {
   "cell_type": "code",
   "execution_count": 102,
   "metadata": {},
   "outputs": [],
   "source": [
    "# smoke test a single chain\n",
    "res = inference_loop(sampling_key, kernel, final_warmup_state, num_samples)"
   ]
  },
  {
   "cell_type": "code",
   "execution_count": 103,
   "metadata": {},
   "outputs": [
    {
     "name": "stdout",
     "output_type": "stream",
     "text": [
      "CPU times: user 2min 55s, sys: 30.6 ms, total: 2min 55s\n",
      "Wall time: 2min 55s\n"
     ]
    }
   ],
   "source": [
    "%%time\n",
    "\n",
    "sampling_keys = jax.random.split(sampling_key, num_chains)\n",
    "\n",
    "res = jax.vmap(inference_loop, in_axes=(0, None, 0, None))(\n",
    "    sampling_keys, kernel, initial_states, num_samples)"
   ]
  },
  {
   "cell_type": "code",
   "execution_count": 118,
   "metadata": {},
   "outputs": [
    {
     "data": {
      "text/plain": [
       "HMCState(position=Theta(beta=Array([[0.48416573, 1.9397656 , 2.6052883 , 3.914477  ],\n",
       "       [0.9792518 , 1.66251   , 2.799564  , 3.613375  ],\n",
       "       [0.6277796 , 1.6564468 , 2.797722  , 3.8103828 ],\n",
       "       [1.0593421 , 1.6748048 , 2.6630936 , 3.9968758 ],\n",
       "       [0.94728774, 1.8232564 , 2.7866573 , 3.8082654 ],\n",
       "       [0.67833555, 1.5200427 , 2.7849824 , 3.878126  ],\n",
       "       [0.6588242 , 1.8078678 , 2.9327288 , 4.0876255 ],\n",
       "       [0.9165713 , 1.5888029 , 2.9345512 , 3.955148  ],\n",
       "       [0.90342546, 1.7511022 , 2.4894533 , 3.9552505 ],\n",
       "       [0.84858435, 1.5725776 , 2.777351  , 3.8785045 ],\n",
       "       [0.5373075 , 1.8253487 , 2.7579026 , 4.0558314 ],\n",
       "       [0.6081923 , 1.7739159 , 2.651623  , 3.8387854 ],\n",
       "       [0.9582368 , 1.4799421 , 2.7983239 , 3.6366127 ],\n",
       "       [0.6801074 , 1.8309165 , 2.8758814 , 3.9184313 ],\n",
       "       [0.9503886 , 1.7380656 , 2.5570567 , 3.7587032 ],\n",
       "       [0.63289654, 1.6855782 , 3.068218  , 3.8602326 ],\n",
       "       [0.6395595 , 1.8166933 , 2.5905662 , 3.58705   ],\n",
       "       [0.7705499 , 1.7775172 , 2.7946553 , 3.851279  ],\n",
       "       [1.0486578 , 1.8085426 , 2.5585608 , 3.6364872 ],\n",
       "       [0.87285405, 1.8586997 , 2.8450627 , 3.7723837 ],\n",
       "       [0.90407956, 1.7378762 , 2.7070456 , 3.917257  ],\n",
       "       [0.65968156, 1.6906794 , 2.7667913 , 3.8642716 ],\n",
       "       [0.53345954, 1.815184  , 2.819171  , 3.7222397 ],\n",
       "       [0.7417367 , 1.7979281 , 2.8316307 , 3.7839594 ],\n",
       "       [0.7279155 , 1.7251886 , 2.884924  , 3.7324772 ],\n",
       "       [0.68672776, 1.652832  , 2.6655002 , 3.7418911 ],\n",
       "       [0.6792345 , 1.5788552 , 2.8532147 , 3.9620757 ],\n",
       "       [0.97122854, 1.8241144 , 2.8932636 , 3.6905975 ],\n",
       "       [0.7158762 , 1.5950547 , 2.6628022 , 3.7124407 ],\n",
       "       [0.71017027, 1.7803739 , 2.7752798 , 3.742526  ]], dtype=float32), sigsq=Array([0.68411803, 0.6052528 , 0.5414393 , 0.45567384, 0.5118045 ,\n",
       "       0.6553761 , 0.9734551 , 0.68202406, 0.6001433 , 0.5556086 ,\n",
       "       0.5674282 , 0.77090377, 0.4325988 , 0.40259346, 0.602677  ,\n",
       "       0.684376  , 0.59122807, 0.6484469 , 0.67183477, 0.48297313,\n",
       "       0.90631163, 0.8209004 , 0.5581296 , 0.4008788 , 0.4059883 ,\n",
       "       0.49308968, 0.56328243, 0.6440317 , 0.66807014, 0.57882905],      dtype=float32), post_id=Array([-2.8527008e+14, -5.6796219e+12, -3.3866715e+13, -5.3392178e+14,\n",
       "       -3.6293406e+14,  2.0265375e+14,  3.6848011e+14, -4.9319700e+14,\n",
       "       -3.8390005e+14, -1.8845030e+14, -5.7120629e+14,  4.7516898e+14,\n",
       "       -8.5666633e+14, -8.5197630e+13,  6.8279249e+14, -3.9147879e+14,\n",
       "        7.0759526e+14, -1.8563826e+13,  4.2230207e+13,  9.1999995e+13,\n",
       "       -6.8301066e+14,  2.9404564e+14, -8.7389270e+14,  6.2616681e+13,\n",
       "        8.1510614e+14,  5.2312672e+13, -2.7451414e+14,  8.7201097e+14,\n",
       "        4.1647640e+14, -9.2467217e+14], dtype=float32)), potential_energy=Array([193.41066, 192.19649, 190.82994, 195.22162, 190.86209, 191.97768,\n",
       "       195.6572 , 192.53084, 194.27873, 191.38481, 192.7755 , 191.50052,\n",
       "       195.56888, 191.55759, 192.66286, 193.12717, 192.76251, 189.8748 ,\n",
       "       194.08943, 190.65858, 192.9921 , 191.46971, 191.46153, 190.80226,\n",
       "       191.42154, 191.60974, 191.86415, 191.50443, 191.68683, 189.92612],      dtype=float32), potential_energy_grad=Theta(beta=Array([[-11.858323  ,   6.8525977 , -10.55371   ,   5.955966  ],\n",
       "       [  9.897623  ,  -6.8083572 ,   0.08786988, -10.328657  ],\n",
       "       [ -7.6331096 ,  -8.062854  ,   0.13033581,  -0.7281103 ],\n",
       "       [ 17.872082  ,  -6.50371   , -12.188856  ,  13.071851  ],\n",
       "       [ 10.214011  ,   2.5478497 ,  -0.7234161 ,   0.75964713],\n",
       "       [ -4.4114504 , -13.90126   ,  -1.1884513 ,   3.1885366 ],\n",
       "       [ -2.9209454 ,   2.1850128 ,   7.581894  ,  11.955555  ],\n",
       "       [  6.9536357 ,  -8.618793  ,   8.141257  ,   7.9054346 ],\n",
       "       [  8.144714  ,  -2.4516537 , -21.470272  ,   9.518499  ],\n",
       "       [  4.202277  , -12.058601  ,  -2.2912621 ,   3.9232762 ],\n",
       "       [-10.746404  ,   2.177753  ,  -2.1759515 ,  14.0029335 ],\n",
       "       [ -6.185646  ,  -1.0715908 ,  -7.448518  ,   2.0305488 ],\n",
       "       [  9.868291  , -20.301655  ,  -1.448952  , -12.1339655 ],\n",
       "       [ -4.856163  ,   3.1771545 ,   6.834385  ,   6.692425  ],\n",
       "       [  9.653877  ,  -3.3375492 , -16.534073  ,  -1.5882225 ],\n",
       "       [ -6.5856876 ,  -4.0700116 ,  17.72069   ,   2.1044695 ],\n",
       "       [ -6.5490456 ,  -0.18666196, -13.103189  , -12.335087  ],\n",
       "       [  0.52246726,  -0.23528397,   0.33836794,   2.7513587 ],\n",
       "       [ 13.480767  ,   0.5364075 , -14.858074  ,  -7.1679697 ],\n",
       "       [  6.093629  ,   4.7149153 ,   4.1268945 ,  -1.8943763 ],\n",
       "       [  5.8069983 ,  -1.2814138 ,  -4.0063076 ,   6.1332684 ],\n",
       "       [ -4.050761  ,  -4.0790477 ,  -0.95658493,   3.0482807 ],\n",
       "       [-12.397794  ,   0.8179163 ,   2.8050504 ,  -5.7289133 ],\n",
       "       [ -1.6273596 ,   0.43025136,   3.0936475 ,  -2.3185015 ],\n",
       "       [ -3.034334  ,  -4.386411  ,   7.328614  ,  -6.2535152 ],\n",
       "       [ -4.6974955 ,  -9.456513  , -10.174288  ,  -4.770756  ],\n",
       "       [ -4.549088  , -11.449064  ,   3.4182768 ,   8.098381  ],\n",
       "       [  9.632722  ,   2.6627803 ,   6.9370117 ,  -5.3461313 ],\n",
       "       [ -2.6818743 , -10.68656   ,  -8.524157  ,  -5.026395  ],\n",
       "       [ -2.9409323 ,  -0.79456604,  -0.8595164 ,  -3.7724724 ]],      dtype=float32), sigsq=Array([  1.1028558 ,  -2.4505408 ,  -3.9048314 , -11.9155245 ,\n",
       "        -4.945476  ,   0.7994312 ,  15.0646305 ,   2.6315875 ,\n",
       "        -4.2398634 ,  -3.5043988 ,  -3.4288836 ,   7.027203  ,\n",
       "       -14.854727  , -10.7359295 ,  -3.0614612 ,   2.1241577 ,\n",
       "        -4.3965993 ,   2.963484  ,  -1.1858702 ,  -6.186397  ,\n",
       "        13.054702  ,   9.906479  ,  -3.7361965 , -10.728231  ,\n",
       "       -11.266387  ,  -7.737528  ,  -3.1706421 ,   1.041885  ,\n",
       "         0.91904217,  -1.1448562 ], dtype=float32), post_id=Array([0., 0., 0., 0., 0., 0., 0., 0., 0., 0., 0., 0., 0., 0., 0., 0., 0.,\n",
       "       0., 0., 0., 0., 0., 0., 0., 0., 0., 0., 0., 0., 0.], dtype=float32)))"
      ]
     },
     "execution_count": 118,
     "metadata": {},
     "output_type": "execute_result"
    }
   ],
   "source": [
    "res.state1h.state"
   ]
  },
  {
   "cell_type": "code",
   "execution_count": 107,
   "metadata": {},
   "outputs": [],
   "source": [
    "def split_rhat(results: MCMCResults) -> float:\n",
    "    # split chain means\n",
    "    means = jnp.hstack([\n",
    "        jax.vmap(welford_mean)(results.state1h.welford_state),\n",
    "        jax.vmap(welford_mean)(results.state2h.welford_state)])\n",
    "    # split chain sample variances\n",
    "    vars = jnp.hstack([\n",
    "        jax.vmap(welford_var)(results.state1h.welford_state),\n",
    "        jax.vmap(welford_var)(results.state2h.welford_state)])\n",
    "    W = jnp.mean(vars)\n",
    "    # number of draws per split chain (ie half draws in an original chain)\n",
    "    n = results[0].welford_state.n[0]\n",
    "    # number of split chains\n",
    "    m = len(means)\n",
    "    B = n*jnp.var(means, ddof=1)\n",
    "    varplus = (n-1)/n*W + B/n\n",
    "    Rhat = jnp.sqrt(varplus/W)\n",
    "    return Rhat"
   ]
  },
  {
   "cell_type": "code",
   "execution_count": 108,
   "metadata": {},
   "outputs": [
    {
     "data": {
      "text/plain": [
       "Array(0.99989665, dtype=float32)"
      ]
     },
     "execution_count": 108,
     "metadata": {},
     "output_type": "execute_result"
    }
   ],
   "source": [
    "split_rhat(res)"
   ]
  },
  {
   "cell_type": "code",
   "execution_count": 116,
   "metadata": {},
   "outputs": [
    {
     "ename": "ValueError",
     "evalue": "vmap was requested to map its argument along axis 0, which implies that its rank should be at least 1, but is only 0 (its shape is ())",
     "output_type": "error",
     "traceback": [
      "\u001b[0;31m---------------------------------------------------------------------------\u001b[0m",
      "\u001b[0;31mIndexError\u001b[0m                                Traceback (most recent call last)",
      "File \u001b[0;32m~/src/papers/mir/code/.venv/lib/python3.10/site-packages/jax-0.4.0-py3.10.egg/jax/_src/api.py:1700\u001b[0m, in \u001b[0;36m_mapped_axis_size.<locals>._get_axis_size\u001b[0;34m(name, shape, axis)\u001b[0m\n\u001b[1;32m   1699\u001b[0m \u001b[39mtry\u001b[39;00m:\n\u001b[0;32m-> 1700\u001b[0m   \u001b[39mreturn\u001b[39;00m shape[axis]\n\u001b[1;32m   1701\u001b[0m \u001b[39mexcept\u001b[39;00m (\u001b[39mIndexError\u001b[39;00m, \u001b[39mTypeError\u001b[39;00m) \u001b[39mas\u001b[39;00m e:\n",
      "\u001b[0;31mIndexError\u001b[0m: tuple index out of range",
      "\nThe above exception was the direct cause of the following exception:\n",
      "\u001b[0;31mValueError\u001b[0m                                Traceback (most recent call last)",
      "Cell \u001b[0;32mIn[116], line 2\u001b[0m\n\u001b[1;32m      1\u001b[0m ipos \u001b[39m=\u001b[39m make_initial_pos(init_key, jnp\u001b[39m.\u001b[39marray(\u001b[39m0.\u001b[39m))\n\u001b[0;32m----> 2\u001b[0m jax\u001b[39m.\u001b[39;49mvmap(\u001b[39mlambda\u001b[39;49;00m x: welford_init(\u001b[39m0.\u001b[39;49m\u001b[39m*\u001b[39;49mx))(ipos)\n",
      "    \u001b[0;31m[... skipping hidden 6 frame]\u001b[0m\n",
      "File \u001b[0;32m~/src/papers/mir/code/.venv/lib/python3.10/site-packages/jax-0.4.0-py3.10.egg/jax/_src/api.py:1704\u001b[0m, in \u001b[0;36m_mapped_axis_size.<locals>._get_axis_size\u001b[0;34m(name, shape, axis)\u001b[0m\n\u001b[1;32m   1702\u001b[0m min_rank \u001b[39m=\u001b[39m axis \u001b[39m+\u001b[39m \u001b[39m1\u001b[39m \u001b[39mif\u001b[39;00m axis \u001b[39m>\u001b[39m\u001b[39m=\u001b[39m \u001b[39m0\u001b[39m \u001b[39melse\u001b[39;00m \u001b[39m-\u001b[39maxis\n\u001b[1;32m   1703\u001b[0m \u001b[39m# TODO(mattjj): better error message here\u001b[39;00m\n\u001b[0;32m-> 1704\u001b[0m \u001b[39mraise\u001b[39;00m \u001b[39mValueError\u001b[39;00m(\n\u001b[1;32m   1705\u001b[0m     \u001b[39mf\u001b[39m\u001b[39m\"\u001b[39m\u001b[39m{\u001b[39;00mname\u001b[39m}\u001b[39;00m\u001b[39m was requested to map its argument along axis \u001b[39m\u001b[39m{\u001b[39;00maxis\u001b[39m}\u001b[39;00m\u001b[39m, \u001b[39m\u001b[39m\"\u001b[39m\n\u001b[1;32m   1706\u001b[0m     \u001b[39mf\u001b[39m\u001b[39m\"\u001b[39m\u001b[39mwhich implies that its rank should be at least \u001b[39m\u001b[39m{\u001b[39;00mmin_rank\u001b[39m}\u001b[39;00m\u001b[39m, \u001b[39m\u001b[39m\"\u001b[39m\n\u001b[1;32m   1707\u001b[0m     \u001b[39mf\u001b[39m\u001b[39m\"\u001b[39m\u001b[39mbut is only \u001b[39m\u001b[39m{\u001b[39;00m\u001b[39mlen\u001b[39m(shape)\u001b[39m}\u001b[39;00m\u001b[39m (its shape is \u001b[39m\u001b[39m{\u001b[39;00mshape\u001b[39m}\u001b[39;00m\u001b[39m)\u001b[39m\u001b[39m\"\u001b[39m) \u001b[39mfrom\u001b[39;00m \u001b[39me\u001b[39;00m\n",
      "\u001b[0;31mValueError\u001b[0m: vmap was requested to map its argument along axis 0, which implies that its rank should be at least 1, but is only 0 (its shape is ())"
     ]
    }
   ],
   "source": [
    "ipos = make_initial_pos(init_key, jnp.array(0.))\n",
    "jax.vmap(lambda x: welford_init(0.*x))(ipos)"
   ]
  },
  {
   "cell_type": "code",
   "execution_count": 114,
   "metadata": {},
   "outputs": [
    {
     "data": {
      "text/plain": [
       "Theta(beta=Array([-0.7934547,  1.9556084, -0.8765542, -1.0467958], dtype=float32), sigsq=Array(-0.5725222, dtype=float32), post_id=0.0)"
      ]
     },
     "execution_count": 114,
     "metadata": {},
     "output_type": "execute_result"
    }
   ],
   "source": [
    "ipos"
   ]
  },
  {
   "cell_type": "code",
   "execution_count": null,
   "metadata": {},
   "outputs": [],
   "source": []
  }
 ],
 "metadata": {
  "kernelspec": {
   "display_name": ".venv",
   "language": "python",
   "name": "python3"
  },
  "language_info": {
   "codemirror_mode": {
    "name": "ipython",
    "version": 3
   },
   "file_extension": ".py",
   "mimetype": "text/x-python",
   "name": "python",
   "nbconvert_exporter": "python",
   "pygments_lexer": "ipython3",
   "version": "3.10.6"
  },
  "orig_nbformat": 4,
  "vscode": {
   "interpreter": {
    "hash": "7b244e6cf922c9b0621775d312a136f9c0e093f5a4d6569bbfcf3ecc99e4276f"
   }
  }
 },
 "nbformat": 4,
 "nbformat_minor": 2
}
