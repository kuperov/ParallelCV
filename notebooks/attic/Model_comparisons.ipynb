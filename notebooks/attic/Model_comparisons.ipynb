{
 "cells": [
  {
   "cell_type": "code",
   "execution_count": 1,
   "id": "087a2b70-e668-481c-9148-5a2969203d40",
   "metadata": {},
   "outputs": [],
   "source": [
    "from diag.util import DummyProgress\n",
    "from diag.model import CVFold, InfParams, ModelParams\n",
    "import unittest\n",
    "\n",
    "import jax\n",
    "from jax import numpy as jnp\n",
    "from jax.scipy import stats as st\n",
    "\n",
    "from diag import Model, LogTransform, compare\n",
    "\n",
    "\n",
    "class _GaussianVarianceModel(Model):\n",
    "    r\"\"\"Test model: Gaussian with unknown variance and a single obs\n",
    "\n",
    "    The prior for :math:`\\sigma^2` is Gamma(a, b).\n",
    "\n",
    "    Because :math:`\\sigma^2` has only positive support, we need to transform\n",
    "    it to cover the real line. One way is with the logarithmic transform.\n",
    "    \"\"\"\n",
    "    name = \"Gaussian variance model\"\n",
    "    def __init__(\n",
    "        self,\n",
    "        y: jnp.DeviceArray,\n",
    "        mean: float = 0.0,\n",
    "        prior_shape: float = 2.0,\n",
    "        prior_rate: float = 2.0,\n",
    "    ) -> None:\n",
    "        self.y = y\n",
    "        self.mean = mean\n",
    "        self.prior_shape = prior_shape\n",
    "        self.prior_rate = prior_rate\n",
    "        self.sigma_sq_transform = LogTransform()\n",
    "\n",
    "    def log_likelihood(self, cv_fold, model_params: ModelParams):\n",
    "        return jnp.sum(\n",
    "            st.norm.logpdf(\n",
    "                self.y, loc=self.mean, scale=jnp.sqrt(model_params[\"sigma_sq\"])\n",
    "            )\n",
    "        )\n",
    "\n",
    "    def log_prior(self, model_params: ModelParams):\n",
    "        return st.gamma.logpdf(\n",
    "            model_params[\"sigma_sq\"], a=self.prior_shape, scale=1.0 / self.prior_rate\n",
    "        )\n",
    "\n",
    "    @classmethod\n",
    "    def generate(\n",
    "        cls, N: int, mean: float, sigma_sq: float, rng_key: jnp.DeviceArray\n",
    "    ) -> jnp.DeviceArray:\n",
    "        return mean + jnp.sqrt(sigma_sq) * jax.random.normal(shape=(N,), key=rng_key)\n",
    "\n",
    "    def initial_value(self) -> ModelParams:\n",
    "        return {\"sigma_sq\": 1.0}\n",
    "\n",
    "    def log_cond_pred(self, model_params: ModelParams, cv_fold: CVFold):\n",
    "        sigma_sq = model_params[\"sigma_sq\"]\n",
    "        return st.norm.logpdf(self.y[cv_fold], loc=self.mean, scale=jnp.sqrt(sigma_sq))\n",
    "\n",
    "    def to_inference_params(self, model_params: ModelParams) -> InfParams:\n",
    "        unconstrained = {\"sigma_sq\": self.sigma_sq_transform(model_params[\"sigma_sq\"])}\n",
    "        return unconstrained\n",
    "\n",
    "    def to_model_params(self, inf_params: InfParams) -> ModelParams:\n",
    "        constrained = {\n",
    "            \"sigma_sq\": self.sigma_sq_transform.to_constrained(inf_params[\"sigma_sq\"])\n",
    "        }\n",
    "        return constrained\n",
    "\n",
    "    def log_det(self, model_params: ModelParams) -> jnp.DeviceArray:\n",
    "        return self.sigma_sq_transform.log_det(model_params[\"sigma_sq\"])\n",
    "\n",
    "    def cv_folds(self):\n",
    "        return len(self.y)  # will yield nonsense CV values of course\n"
   ]
  },
  {
   "cell_type": "code",
   "execution_count": 2,
   "id": "0e9fd0cc-48b1-4024-976a-af423de89d23",
   "metadata": {},
   "outputs": [
    {
     "name": "stderr",
     "output_type": "stream",
     "text": [
      "WARNING:absl:No GPU/TPU found, falling back to CPU. (Set TF_CPP_MIN_LOG_LEVEL=0 and rerun for more info.)\n"
     ]
    }
   ],
   "source": [
    "gen_key = jax.random.PRNGKey(seed=42)\n",
    "y = _GaussianVarianceModel.generate(N=100, mean=0, sigma_sq=10, rng_key=gen_key)\n",
    "m1 = _GaussianVarianceModel(y, mean=0.0)  # good\n",
    "m2 = _GaussianVarianceModel(y, mean=-10.0)  # bad\n",
    "m3 = _GaussianVarianceModel(y, mean=50.0)  # awful\n",
    "m1_post = m1.inference(out=DummyProgress())\n",
    "m2_post = m2.inference(out=DummyProgress())\n",
    "m3_post = m3.inference(out=DummyProgress())"
   ]
  },
  {
   "cell_type": "code",
   "execution_count": 3,
   "id": "f0244880-c391-44fa-ba1c-0656c50768af",
   "metadata": {},
   "outputs": [
    {
     "name": "stdout",
     "output_type": "stream",
     "text": [
      "Gaussian variance model inference summary\n",
      "=========================================\n",
      "\n",
      "16,000 draws from 2,000 iterations on 8 chains with seed 42\n",
      "\n",
      "Parameter      Mean  (SE)      1%    5%    25%    Median    75%    95%    99%\n",
      "-----------  ------  ------  ----  ----  -----  --------  -----  -----  -----\n",
      "sigma_sq       8.17  (0.93)   6.3  6.78   7.52       8.1   8.76    9.8  10.65\n"
     ]
    }
   ],
   "source": [
    "print(m1_post)"
   ]
  },
  {
   "cell_type": "code",
   "execution_count": 4,
   "id": "67cee5a1-b837-40bb-83f5-459c53fbb45f",
   "metadata": {},
   "outputs": [
    {
     "name": "stdout",
     "output_type": "stream",
     "text": [
      "Gaussian variance model inference summary\n",
      "=========================================\n",
      "\n",
      "16,000 draws from 2,000 iterations on 8 chains with seed 42\n",
      "\n",
      "Parameter      Mean  (SE)       1%     5%    25%    Median    75%    95%    99%\n",
      "-----------  ------  ------  -----  -----  -----  --------  -----  -----  -----\n",
      "sigma_sq      42.12  (2.86)  35.99  37.59  40.15     42.02  44.04  47.03  49.22\n"
     ]
    }
   ],
   "source": [
    "print(m2_post)"
   ]
  },
  {
   "cell_type": "code",
   "execution_count": 5,
   "id": "1d80fd99-833f-4f47-a9f8-7246ce11a2f3",
   "metadata": {},
   "outputs": [
    {
     "name": "stdout",
     "output_type": "stream",
     "text": [
      "Gaussian variance model inference summary\n",
      "=========================================\n",
      "\n",
      "16,000 draws from 2,000 iterations on 8 chains with seed 42\n",
      "\n",
      "Parameter      Mean  (SE)        1%      5%     25%    Median     75%     95%     99%\n",
      "-----------  ------  ------  ------  ------  ------  --------  ------  ------  ------\n",
      "sigma_sq     238.71  (7.55)  221.65  226.57  233.59    238.54  243.79  251.42  256.56\n"
     ]
    }
   ],
   "source": [
    "print(m3_post)"
   ]
  },
  {
   "cell_type": "code",
   "execution_count": 6,
   "id": "c0fd67ed-352c-49a9-8ef9-984512762831",
   "metadata": {},
   "outputs": [],
   "source": [
    "m1_cv = m1_post.cross_validate()\n",
    "m2_cv = m2_post.cross_validate()\n",
    "m3_cv = m3_post.cross_validate()"
   ]
  },
  {
   "cell_type": "code",
   "execution_count": 7,
   "id": "151338ab-9951-4c9d-be1d-5bfc2c159053",
   "metadata": {},
   "outputs": [
    {
     "name": "stdout",
     "output_type": "stream",
     "text": [
      "Cross-validation summary\n",
      "========================\n",
      "\n",
      "    elpd = -2.6101 (se 0.0167)\n",
      "\n",
      "Calculated from 100 folds (8 chains per fold, 800 total)\n",
      "\n",
      "Average acceptance rate 84.0% (min 81.4%, max 86.5%)\n",
      "\n",
      "Divergent chain count: 0\n",
      "Cross-validation summary\n",
      "========================\n",
      "\n",
      "    elpd = -4.1115 (se 0.0179)\n",
      "\n",
      "Calculated from 100 folds (8 chains per fold, 800 total)\n",
      "\n",
      "Average acceptance rate 76.6% (min 73.6%, max 80.2%)\n",
      "\n",
      "Divergent chain count: 0\n",
      "Cross-validation summary\n",
      "========================\n",
      "\n",
      "    elpd = -8.9120 (se 0.0151)\n",
      "\n",
      "Calculated from 100 folds (8 chains per fold, 800 total)\n",
      "\n",
      "Average acceptance rate 80.1% (min 77.5%, max 82.6%)\n",
      "\n",
      "Divergent chain count: 0\n"
     ]
    }
   ],
   "source": [
    "print(m1_cv)\n",
    "print(m2_cv)\n",
    "print(m3_cv)"
   ]
  },
  {
   "cell_type": "code",
   "execution_count": 8,
   "id": "ad98753c-ffa0-4579-b5ff-1729813f03fc",
   "metadata": {},
   "outputs": [
    {
     "data": {
      "text/plain": [
       "LOO Cross Validation Comparison\n",
       "===============================\n",
       "Model        elpd    elpd diff    elpd se\n",
       "-------  --------  -----------  ---------\n",
       "model0   -2.61008      0        0.016704\n",
       "model1   -4.11147      1.50139  0.0178733\n",
       "model2   -8.91202      6.30194  0.0150503"
      ]
     },
     "execution_count": 8,
     "metadata": {},
     "output_type": "execute_result"
    }
   ],
   "source": [
    "cmp_res = compare(m1_cv, m2_cv, m3_cv)\n",
    "cmp_res"
   ]
  },
  {
   "cell_type": "code",
   "execution_count": 9,
   "id": "ac9d91bc-ffd6-48c6-a1f7-2aeb659d63a0",
   "metadata": {},
   "outputs": [
    {
     "data": {
      "text/plain": [
       "LOO Cross Validation Comparison\n",
       "===============================\n",
       "Model            elpd    elpd diff    elpd se\n",
       "-----------  --------  -----------  ---------\n",
       "model0       -2.61008      0        0.016704\n",
       "bad_model    -4.11147      1.50139  0.0178733\n",
       "awful_model  -8.91202      6.30194  0.0150503"
      ]
     },
     "execution_count": 9,
     "metadata": {},
     "output_type": "execute_result"
    }
   ],
   "source": [
    "cmp_res = compare(m1_cv, bad_model=m2_cv, awful_model=m3_cv)\n",
    "cmp_res"
   ]
  },
  {
   "cell_type": "code",
   "execution_count": null,
   "id": "f18ebfc3-81ec-4c30-8304-c9ef4b7e9fb3",
   "metadata": {},
   "outputs": [],
   "source": []
  }
 ],
 "metadata": {
  "kernelspec": {
   "display_name": "Python 3 (ipykernel)",
   "language": "python",
   "name": "python3"
  },
  "language_info": {
   "codemirror_mode": {
    "name": "ipython",
    "version": 3
   },
   "file_extension": ".py",
   "mimetype": "text/x-python",
   "name": "python",
   "nbconvert_exporter": "python",
   "pygments_lexer": "ipython3",
   "version": "3.8.10"
  }
 },
 "nbformat": 4,
 "nbformat_minor": 5
}
