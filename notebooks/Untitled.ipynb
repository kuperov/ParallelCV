{
 "cells": [
  {
   "cell_type": "code",
   "execution_count": 3,
   "id": "723ee709-1486-47dd-a497-3c8b220ddd10",
   "metadata": {},
   "outputs": [
    {
     "data": {
      "text/plain": [
       "DeviceArray([0, 1, 2, 3, 0, 1, 2, 3, 0, 1, 2, 3, 0, 1, 2, 3, 0, 1, 2, 3,\n",
       "             0, 1, 2, 3, 0, 1, 2, 3, 0, 1, 2, 3, 0, 1, 2, 3, 0, 1, 2, 3,\n",
       "             0, 1, 2, 3], dtype=int32)"
      ]
     },
     "execution_count": 3,
     "metadata": {},
     "output_type": "execute_result"
    }
   ],
   "source": [
    "from jax import random, numpy as jnp\n",
    "\n",
    "chains = 4\n",
    "cv_folds = 11\n",
    "\n",
    "rng_key = random.PRNGKey(42)\n",
    "\n",
    "chain_indexes = jnp.resize(jnp.arange(chains), chains*cv_folds)\n",
    "chain_indexes"
   ]
  },
  {
   "cell_type": "code",
   "execution_count": 4,
   "id": "fbbf3abf-161b-4ab3-a90b-5e2bdb0875ba",
   "metadata": {},
   "outputs": [
    {
     "data": {
      "text/plain": [
       "DeviceArray([[2954079971, 2575172198],\n",
       "             [1139032965, 1035738655],\n",
       "             [3276725750, 1223413151],\n",
       "             [ 173471767,   13772463],\n",
       "             [2954079971, 2575172198],\n",
       "             [1139032965, 1035738655],\n",
       "             [3276725750, 1223413151],\n",
       "             [ 173471767,   13772463],\n",
       "             [2954079971, 2575172198],\n",
       "             [1139032965, 1035738655],\n",
       "             [3276725750, 1223413151],\n",
       "             [ 173471767,   13772463],\n",
       "             [2954079971, 2575172198],\n",
       "             [1139032965, 1035738655],\n",
       "             [3276725750, 1223413151],\n",
       "             [ 173471767,   13772463],\n",
       "             [2954079971, 2575172198],\n",
       "             [1139032965, 1035738655],\n",
       "             [3276725750, 1223413151],\n",
       "             [ 173471767,   13772463],\n",
       "             [2954079971, 2575172198],\n",
       "             [1139032965, 1035738655],\n",
       "             [3276725750, 1223413151],\n",
       "             [ 173471767,   13772463],\n",
       "             [2954079971, 2575172198],\n",
       "             [1139032965, 1035738655],\n",
       "             [3276725750, 1223413151],\n",
       "             [ 173471767,   13772463],\n",
       "             [2954079971, 2575172198],\n",
       "             [1139032965, 1035738655],\n",
       "             [3276725750, 1223413151],\n",
       "             [ 173471767,   13772463],\n",
       "             [2954079971, 2575172198],\n",
       "             [1139032965, 1035738655],\n",
       "             [3276725750, 1223413151],\n",
       "             [ 173471767,   13772463],\n",
       "             [2954079971, 2575172198],\n",
       "             [1139032965, 1035738655],\n",
       "             [3276725750, 1223413151],\n",
       "             [ 173471767,   13772463],\n",
       "             [2954079971, 2575172198],\n",
       "             [1139032965, 1035738655],\n",
       "             [3276725750, 1223413151],\n",
       "             [ 173471767,   13772463]], dtype=uint32)"
      ]
     },
     "execution_count": 4,
     "metadata": {},
     "output_type": "execute_result"
    }
   ],
   "source": [
    "random.split(rng_key, chains)[chain_indexes]"
   ]
  },
  {
   "cell_type": "code",
   "execution_count": null,
   "id": "7126b01c-45bb-4216-b231-8c372bcfcef6",
   "metadata": {},
   "outputs": [],
   "source": []
  }
 ],
 "metadata": {
  "kernelspec": {
   "display_name": "Python 3",
   "language": "python",
   "name": "python3"
  },
  "language_info": {
   "codemirror_mode": {
    "name": "ipython",
    "version": 3
   },
   "file_extension": ".py",
   "mimetype": "text/x-python",
   "name": "python",
   "nbconvert_exporter": "python",
   "pygments_lexer": "ipython3",
   "version": "3.6.9"
  }
 },
 "nbformat": 4,
 "nbformat_minor": 5
}
